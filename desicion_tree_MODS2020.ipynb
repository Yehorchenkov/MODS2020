{
 "nbformat": 4,
 "nbformat_minor": 2,
 "metadata": {
  "language_info": {
   "name": "python",
   "codemirror_mode": {
    "name": "ipython",
    "version": 3
   },
   "version": "3.7.6-final"
  },
  "orig_nbformat": 2,
  "file_extension": ".py",
  "mimetype": "text/x-python",
  "name": "python",
  "npconvert_exporter": "python",
  "pygments_lexer": "ipython3",
  "version": 3,
  "kernelspec": {
   "name": "python3",
   "display_name": "Python 3"
  }
 },
 "cells": [
  {
   "cell_type": "code",
   "execution_count": 1,
   "metadata": {},
   "outputs": [],
   "source": [
    "import numpy as np\n",
    "import pandas as pd\n",
    "import seaborn as sns\n",
    "from matplotlib import pyplot as plt\n",
    "from sklearn.model_selection import train_test_split, GridSearchCV, StratifiedKFold\n",
    "from sklearn.metrics import accuracy_score, roc_auc_score\n",
    "from sklearn.tree import DecisionTreeClassifier, export_graphviz\n",
    "from sklearn.preprocessing import LabelEncoder"
   ]
  },
  {
   "cell_type": "code",
   "execution_count": 2,
   "metadata": {},
   "outputs": [],
   "source": [
    "df = pd.read_csv('.\\data\\ks-projects-201801.csv')"
   ]
  },
  {
   "cell_type": "code",
   "execution_count": 3,
   "metadata": {},
   "outputs": [],
   "source": [
    "#len(df), len(df.columns)"
   ]
  },
  {
   "cell_type": "code",
   "execution_count": 4,
   "metadata": {},
   "outputs": [
    {
     "output_type": "execute_result",
     "data": {
      "text/plain": "           ID                                               name  \\\n0  1000002330                    The Songs of Adelaide & Abullah   \n1  1000003930      Greeting From Earth: ZGAC Arts Capsule For ET   \n2  1000004038                                     Where is Hank?   \n3  1000007540  ToshiCapital Rekordz Needs Help to Complete Album   \n4  1000011046  Community Film Project: The Art of Neighborhoo...   \n\n         category main_category currency    deadline     goal  \\\n0          Poetry    Publishing      GBP  2015-10-09   1000.0   \n1  Narrative Film  Film & Video      USD  2017-11-01  30000.0   \n2  Narrative Film  Film & Video      USD  2013-02-26  45000.0   \n3           Music         Music      USD  2012-04-16   5000.0   \n4    Film & Video  Film & Video      USD  2015-08-29  19500.0   \n\n              launched  pledged     state  backers country  usd pledged  \\\n0  2015-08-11 12:12:28      0.0    failed        0      GB          0.0   \n1  2017-09-02 04:43:57   2421.0    failed       15      US        100.0   \n2  2013-01-12 00:20:50    220.0    failed        3      US        220.0   \n3  2012-03-17 03:24:11      1.0    failed        1      US          1.0   \n4  2015-07-04 08:35:03   1283.0  canceled       14      US       1283.0   \n\n   usd_pledged_real  usd_goal_real  \n0               0.0        1533.95  \n1            2421.0       30000.00  \n2             220.0       45000.00  \n3               1.0        5000.00  \n4            1283.0       19500.00  ",
      "text/html": "<div>\n<style scoped>\n    .dataframe tbody tr th:only-of-type {\n        vertical-align: middle;\n    }\n\n    .dataframe tbody tr th {\n        vertical-align: top;\n    }\n\n    .dataframe thead th {\n        text-align: right;\n    }\n</style>\n<table border=\"1\" class=\"dataframe\">\n  <thead>\n    <tr style=\"text-align: right;\">\n      <th></th>\n      <th>ID</th>\n      <th>name</th>\n      <th>category</th>\n      <th>main_category</th>\n      <th>currency</th>\n      <th>deadline</th>\n      <th>goal</th>\n      <th>launched</th>\n      <th>pledged</th>\n      <th>state</th>\n      <th>backers</th>\n      <th>country</th>\n      <th>usd pledged</th>\n      <th>usd_pledged_real</th>\n      <th>usd_goal_real</th>\n    </tr>\n  </thead>\n  <tbody>\n    <tr>\n      <th>0</th>\n      <td>1000002330</td>\n      <td>The Songs of Adelaide &amp; Abullah</td>\n      <td>Poetry</td>\n      <td>Publishing</td>\n      <td>GBP</td>\n      <td>2015-10-09</td>\n      <td>1000.0</td>\n      <td>2015-08-11 12:12:28</td>\n      <td>0.0</td>\n      <td>failed</td>\n      <td>0</td>\n      <td>GB</td>\n      <td>0.0</td>\n      <td>0.0</td>\n      <td>1533.95</td>\n    </tr>\n    <tr>\n      <th>1</th>\n      <td>1000003930</td>\n      <td>Greeting From Earth: ZGAC Arts Capsule For ET</td>\n      <td>Narrative Film</td>\n      <td>Film &amp; Video</td>\n      <td>USD</td>\n      <td>2017-11-01</td>\n      <td>30000.0</td>\n      <td>2017-09-02 04:43:57</td>\n      <td>2421.0</td>\n      <td>failed</td>\n      <td>15</td>\n      <td>US</td>\n      <td>100.0</td>\n      <td>2421.0</td>\n      <td>30000.00</td>\n    </tr>\n    <tr>\n      <th>2</th>\n      <td>1000004038</td>\n      <td>Where is Hank?</td>\n      <td>Narrative Film</td>\n      <td>Film &amp; Video</td>\n      <td>USD</td>\n      <td>2013-02-26</td>\n      <td>45000.0</td>\n      <td>2013-01-12 00:20:50</td>\n      <td>220.0</td>\n      <td>failed</td>\n      <td>3</td>\n      <td>US</td>\n      <td>220.0</td>\n      <td>220.0</td>\n      <td>45000.00</td>\n    </tr>\n    <tr>\n      <th>3</th>\n      <td>1000007540</td>\n      <td>ToshiCapital Rekordz Needs Help to Complete Album</td>\n      <td>Music</td>\n      <td>Music</td>\n      <td>USD</td>\n      <td>2012-04-16</td>\n      <td>5000.0</td>\n      <td>2012-03-17 03:24:11</td>\n      <td>1.0</td>\n      <td>failed</td>\n      <td>1</td>\n      <td>US</td>\n      <td>1.0</td>\n      <td>1.0</td>\n      <td>5000.00</td>\n    </tr>\n    <tr>\n      <th>4</th>\n      <td>1000011046</td>\n      <td>Community Film Project: The Art of Neighborhoo...</td>\n      <td>Film &amp; Video</td>\n      <td>Film &amp; Video</td>\n      <td>USD</td>\n      <td>2015-08-29</td>\n      <td>19500.0</td>\n      <td>2015-07-04 08:35:03</td>\n      <td>1283.0</td>\n      <td>canceled</td>\n      <td>14</td>\n      <td>US</td>\n      <td>1283.0</td>\n      <td>1283.0</td>\n      <td>19500.00</td>\n    </tr>\n  </tbody>\n</table>\n</div>"
     },
     "metadata": {},
     "execution_count": 4
    }
   ],
   "source": [
    "df.head()"
   ]
  },
  {
   "cell_type": "code",
   "execution_count": 5,
   "metadata": {},
   "outputs": [
    {
     "output_type": "stream",
     "name": "stdout",
     "text": "<class 'pandas.core.frame.DataFrame'>\nRangeIndex: 378661 entries, 0 to 378660\nData columns (total 15 columns):\n #   Column            Non-Null Count   Dtype  \n---  ------            --------------   -----  \n 0   ID                378661 non-null  int64  \n 1   name              378657 non-null  object \n 2   category          378661 non-null  object \n 3   main_category     378661 non-null  object \n 4   currency          378661 non-null  object \n 5   deadline          378661 non-null  object \n 6   goal              378661 non-null  float64\n 7   launched          378661 non-null  object \n 8   pledged           378661 non-null  float64\n 9   state             378661 non-null  object \n 10  backers           378661 non-null  int64  \n 11  country           378661 non-null  object \n 12  usd pledged       374864 non-null  float64\n 13  usd_pledged_real  378661 non-null  float64\n 14  usd_goal_real     378661 non-null  float64\ndtypes: float64(5), int64(2), object(8)\nmemory usage: 43.3+ MB\n"
    }
   ],
   "source": [
    "df.info()"
   ]
  },
  {
   "cell_type": "code",
   "execution_count": 6,
   "metadata": {},
   "outputs": [],
   "source": [
    "# add duration in days\n",
    "df['duration'] = (pd.to_datetime(df['deadline']) - pd.to_datetime(df['launched'])).dt.days"
   ]
  },
  {
   "cell_type": "code",
   "execution_count": 7,
   "metadata": {},
   "outputs": [],
   "source": [
    "# copy project name and id\n",
    "df_names = df[['ID', 'name']].copy()"
   ]
  },
  {
   "cell_type": "code",
   "execution_count": 8,
   "metadata": {},
   "outputs": [],
   "source": [
    "#df.to_excel(\"output.xlsx\")"
   ]
  },
  {
   "cell_type": "code",
   "execution_count": 9,
   "metadata": {},
   "outputs": [
    {
     "output_type": "stream",
     "name": "stdout",
     "text": "<class 'pandas.core.frame.DataFrame'>\nRangeIndex: 378661 entries, 0 to 378660\nData columns (total 16 columns):\n #   Column            Non-Null Count   Dtype   \n---  ------            --------------   -----   \n 0   ID                378661 non-null  int64   \n 1   name              378657 non-null  object  \n 2   category          378661 non-null  category\n 3   main_category     378661 non-null  category\n 4   currency          378661 non-null  category\n 5   deadline          378661 non-null  object  \n 6   goal              378661 non-null  float64 \n 7   launched          378661 non-null  object  \n 8   pledged           378661 non-null  float64 \n 9   state             378661 non-null  object  \n 10  backers           378661 non-null  int64   \n 11  country           378661 non-null  category\n 12  usd pledged       374864 non-null  float64 \n 13  usd_pledged_real  378661 non-null  float64 \n 14  usd_goal_real     378661 non-null  float64 \n 15  duration          378661 non-null  int64   \ndtypes: category(4), float64(5), int64(3), object(4)\nmemory usage: 36.5+ MB\n"
    }
   ],
   "source": [
    "# convert text variables to categorical\n",
    "text_col = ['category', 'main_category', 'country', 'currency']\n",
    "df[text_col] = df[text_col].astype('category')\n",
    "df.info()"
   ]
  },
  {
   "cell_type": "code",
   "execution_count": 10,
   "metadata": {},
   "outputs": [
    {
     "output_type": "display_data",
     "data": {
      "text/plain": "<Figure size 432x288 with 2 Axes>",
      "image/svg+xml": "<?xml version=\"1.0\" encoding=\"utf-8\" standalone=\"no\"?>\r\n<!DOCTYPE svg PUBLIC \"-//W3C//DTD SVG 1.1//EN\"\r\n  \"http://www.w3.org/Graphics/SVG/1.1/DTD/svg11.dtd\">\r\n<!-- Created with matplotlib (https://matplotlib.org/) -->\r\n<svg height=\"330.179844pt\" version=\"1.1\" viewBox=\"0 0 427.29575 330.179844\" width=\"427.29575pt\" xmlns=\"http://www.w3.org/2000/svg\" xmlns:xlink=\"http://www.w3.org/1999/xlink\">\r\n <defs>\r\n  <style type=\"text/css\">\r\n*{stroke-linecap:butt;stroke-linejoin:round;}\r\n  </style>\r\n </defs>\r\n <g id=\"figure_1\">\r\n  <g id=\"patch_1\">\r\n   <path d=\"M 0 330.179844 \r\nL 427.29575 330.179844 \r\nL 427.29575 0 \r\nL 0 0 \r\nz\r\n\" style=\"fill:none;\"/>\r\n  </g>\r\n  <g id=\"axes_1\">\r\n   <g id=\"patch_2\">\r\n    <path d=\"M 101.740625 228.439219 \r\nL 369.580625 228.439219 \r\nL 369.580625 10.999219 \r\nL 101.740625 10.999219 \r\nz\r\n\" style=\"fill:#ffffff;\"/>\r\n   </g>\r\n   <g id=\"QuadMesh_1\">\r\n    <path clip-path=\"url(#pb83418c0e7)\" d=\"M 101.740625 10.999219 \r\nL 135.220625 10.999219 \r\nL 135.220625 38.179219 \r\nL 101.740625 38.179219 \r\nL 101.740625 10.999219 \r\n\" style=\"fill:#faebdd;\"/>\r\n    <path clip-path=\"url(#pb83418c0e7)\" d=\"M 135.220625 10.999219 \r\nL 168.700625 10.999219 \r\nL 168.700625 38.179219 \r\nL 135.220625 38.179219 \r\nL 135.220625 10.999219 \r\n\" style=\"fill:#03051a;\"/>\r\n    <path clip-path=\"url(#pb83418c0e7)\" d=\"M 168.700625 10.999219 \r\nL 202.180625 10.999219 \r\nL 202.180625 38.179219 \r\nL 168.700625 38.179219 \r\nL 168.700625 10.999219 \r\n\" style=\"fill:#03051a;\"/>\r\n    <path clip-path=\"url(#pb83418c0e7)\" d=\"M 202.180625 10.999219 \r\nL 235.660625 10.999219 \r\nL 235.660625 38.179219 \r\nL 202.180625 38.179219 \r\nL 202.180625 10.999219 \r\n\" style=\"fill:#03051a;\"/>\r\n    <path clip-path=\"url(#pb83418c0e7)\" d=\"M 235.660625 10.999219 \r\nL 269.140625 10.999219 \r\nL 269.140625 38.179219 \r\nL 235.660625 38.179219 \r\nL 235.660625 10.999219 \r\n\" style=\"fill:#03051a;\"/>\r\n    <path clip-path=\"url(#pb83418c0e7)\" d=\"M 269.140625 10.999219 \r\nL 302.620625 10.999219 \r\nL 302.620625 38.179219 \r\nL 269.140625 38.179219 \r\nL 269.140625 10.999219 \r\n\" style=\"fill:#03051a;\"/>\r\n    <path clip-path=\"url(#pb83418c0e7)\" d=\"M 302.620625 10.999219 \r\nL 336.100625 10.999219 \r\nL 336.100625 38.179219 \r\nL 302.620625 38.179219 \r\nL 302.620625 10.999219 \r\n\" style=\"fill:#03051a;\"/>\r\n    <path clip-path=\"url(#pb83418c0e7)\" d=\"M 336.100625 10.999219 \r\nL 369.580625 10.999219 \r\nL 369.580625 38.179219 \r\nL 336.100625 38.179219 \r\nL 336.100625 10.999219 \r\n\" style=\"fill:#03051a;\"/>\r\n    <path clip-path=\"url(#pb83418c0e7)\" d=\"M 101.740625 38.179219 \r\nL 135.220625 38.179219 \r\nL 135.220625 65.359219 \r\nL 101.740625 65.359219 \r\nL 101.740625 38.179219 \r\n\" style=\"fill:#03051a;\"/>\r\n    <path clip-path=\"url(#pb83418c0e7)\" d=\"M 135.220625 38.179219 \r\nL 168.700625 38.179219 \r\nL 168.700625 65.359219 \r\nL 135.220625 65.359219 \r\nL 135.220625 38.179219 \r\n\" style=\"fill:#faebdd;\"/>\r\n    <path clip-path=\"url(#pb83418c0e7)\" d=\"M 168.700625 38.179219 \r\nL 202.180625 38.179219 \r\nL 202.180625 65.359219 \r\nL 168.700625 65.359219 \r\nL 168.700625 38.179219 \r\n\" style=\"fill:#05061b;\"/>\r\n    <path clip-path=\"url(#pb83418c0e7)\" d=\"M 202.180625 38.179219 \r\nL 235.660625 38.179219 \r\nL 235.660625 65.359219 \r\nL 202.180625 65.359219 \r\nL 202.180625 38.179219 \r\n\" style=\"fill:#04051a;\"/>\r\n    <path clip-path=\"url(#pb83418c0e7)\" d=\"M 235.660625 38.179219 \r\nL 269.140625 38.179219 \r\nL 269.140625 65.359219 \r\nL 235.660625 65.359219 \r\nL 235.660625 38.179219 \r\n\" style=\"fill:#04051a;\"/>\r\n    <path clip-path=\"url(#pb83418c0e7)\" d=\"M 269.140625 38.179219 \r\nL 302.620625 38.179219 \r\nL 302.620625 65.359219 \r\nL 269.140625 65.359219 \r\nL 269.140625 38.179219 \r\n\" style=\"fill:#04051a;\"/>\r\n    <path clip-path=\"url(#pb83418c0e7)\" d=\"M 302.620625 38.179219 \r\nL 336.100625 38.179219 \r\nL 336.100625 65.359219 \r\nL 302.620625 65.359219 \r\nL 302.620625 38.179219 \r\n\" style=\"fill:#f8d6be;\"/>\r\n    <path clip-path=\"url(#pb83418c0e7)\" d=\"M 336.100625 38.179219 \r\nL 369.580625 38.179219 \r\nL 369.580625 65.359219 \r\nL 336.100625 65.359219 \r\nL 336.100625 38.179219 \r\n\" style=\"fill:#04051a;\"/>\r\n    <path clip-path=\"url(#pb83418c0e7)\" d=\"M 101.740625 65.359219 \r\nL 135.220625 65.359219 \r\nL 135.220625 92.539219 \r\nL 101.740625 92.539219 \r\nL 101.740625 65.359219 \r\n\" style=\"fill:#03051a;\"/>\r\n    <path clip-path=\"url(#pb83418c0e7)\" d=\"M 135.220625 65.359219 \r\nL 168.700625 65.359219 \r\nL 168.700625 92.539219 \r\nL 135.220625 92.539219 \r\nL 135.220625 65.359219 \r\n\" style=\"fill:#05061b;\"/>\r\n    <path clip-path=\"url(#pb83418c0e7)\" d=\"M 168.700625 65.359219 \r\nL 202.180625 65.359219 \r\nL 202.180625 92.539219 \r\nL 168.700625 92.539219 \r\nL 168.700625 65.359219 \r\n\" style=\"fill:#faebdd;\"/>\r\n    <path clip-path=\"url(#pb83418c0e7)\" d=\"M 202.180625 65.359219 \r\nL 235.660625 65.359219 \r\nL 235.660625 92.539219 \r\nL 202.180625 92.539219 \r\nL 202.180625 65.359219 \r\n\" style=\"fill:#f37852;\"/>\r\n    <path clip-path=\"url(#pb83418c0e7)\" d=\"M 235.660625 65.359219 \r\nL 269.140625 65.359219 \r\nL 269.140625 92.539219 \r\nL 235.660625 92.539219 \r\nL 235.660625 65.359219 \r\n\" style=\"fill:#f6b48f;\"/>\r\n    <path clip-path=\"url(#pb83418c0e7)\" d=\"M 269.140625 65.359219 \r\nL 302.620625 65.359219 \r\nL 302.620625 92.539219 \r\nL 269.140625 92.539219 \r\nL 269.140625 65.359219 \r\n\" style=\"fill:#f8d9c3;\"/>\r\n    <path clip-path=\"url(#pb83418c0e7)\" d=\"M 302.620625 65.359219 \r\nL 336.100625 65.359219 \r\nL 336.100625 92.539219 \r\nL 302.620625 92.539219 \r\nL 302.620625 65.359219 \r\n\" style=\"fill:#04051a;\"/>\r\n    <path clip-path=\"url(#pb83418c0e7)\" d=\"M 336.100625 65.359219 \r\nL 369.580625 65.359219 \r\nL 369.580625 92.539219 \r\nL 336.100625 92.539219 \r\nL 336.100625 65.359219 \r\n\" style=\"fill:#03051a;\"/>\r\n    <path clip-path=\"url(#pb83418c0e7)\" d=\"M 101.740625 92.539219 \r\nL 135.220625 92.539219 \r\nL 135.220625 119.719219 \r\nL 101.740625 119.719219 \r\nL 101.740625 92.539219 \r\n\" style=\"fill:#03051a;\"/>\r\n    <path clip-path=\"url(#pb83418c0e7)\" d=\"M 135.220625 92.539219 \r\nL 168.700625 92.539219 \r\nL 168.700625 119.719219 \r\nL 135.220625 119.719219 \r\nL 135.220625 92.539219 \r\n\" style=\"fill:#04051a;\"/>\r\n    <path clip-path=\"url(#pb83418c0e7)\" d=\"M 168.700625 92.539219 \r\nL 202.180625 92.539219 \r\nL 202.180625 119.719219 \r\nL 168.700625 119.719219 \r\nL 168.700625 92.539219 \r\n\" style=\"fill:#f37852;\"/>\r\n    <path clip-path=\"url(#pb83418c0e7)\" d=\"M 202.180625 92.539219 \r\nL 235.660625 92.539219 \r\nL 235.660625 119.719219 \r\nL 202.180625 119.719219 \r\nL 202.180625 92.539219 \r\n\" style=\"fill:#faebdd;\"/>\r\n    <path clip-path=\"url(#pb83418c0e7)\" d=\"M 235.660625 92.539219 \r\nL 269.140625 92.539219 \r\nL 269.140625 119.719219 \r\nL 235.660625 119.719219 \r\nL 235.660625 92.539219 \r\n\" style=\"fill:#f26f4c;\"/>\r\n    <path clip-path=\"url(#pb83418c0e7)\" d=\"M 269.140625 92.539219 \r\nL 302.620625 92.539219 \r\nL 302.620625 119.719219 \r\nL 269.140625 119.719219 \r\nL 269.140625 92.539219 \r\n\" style=\"fill:#f58860;\"/>\r\n    <path clip-path=\"url(#pb83418c0e7)\" d=\"M 302.620625 92.539219 \r\nL 336.100625 92.539219 \r\nL 336.100625 119.719219 \r\nL 302.620625 119.719219 \r\nL 302.620625 92.539219 \r\n\" style=\"fill:#04051a;\"/>\r\n    <path clip-path=\"url(#pb83418c0e7)\" d=\"M 336.100625 92.539219 \r\nL 369.580625 92.539219 \r\nL 369.580625 119.719219 \r\nL 336.100625 119.719219 \r\nL 336.100625 92.539219 \r\n\" style=\"fill:#03051a;\"/>\r\n    <path clip-path=\"url(#pb83418c0e7)\" d=\"M 101.740625 119.719219 \r\nL 135.220625 119.719219 \r\nL 135.220625 146.899219 \r\nL 101.740625 146.899219 \r\nL 101.740625 119.719219 \r\n\" style=\"fill:#03051a;\"/>\r\n    <path clip-path=\"url(#pb83418c0e7)\" d=\"M 135.220625 119.719219 \r\nL 168.700625 119.719219 \r\nL 168.700625 146.899219 \r\nL 135.220625 146.899219 \r\nL 135.220625 119.719219 \r\n\" style=\"fill:#04051a;\"/>\r\n    <path clip-path=\"url(#pb83418c0e7)\" d=\"M 168.700625 119.719219 \r\nL 202.180625 119.719219 \r\nL 202.180625 146.899219 \r\nL 168.700625 146.899219 \r\nL 168.700625 119.719219 \r\n\" style=\"fill:#f6b48f;\"/>\r\n    <path clip-path=\"url(#pb83418c0e7)\" d=\"M 202.180625 119.719219 \r\nL 235.660625 119.719219 \r\nL 235.660625 146.899219 \r\nL 202.180625 146.899219 \r\nL 202.180625 119.719219 \r\n\" style=\"fill:#f26f4c;\"/>\r\n    <path clip-path=\"url(#pb83418c0e7)\" d=\"M 235.660625 119.719219 \r\nL 269.140625 119.719219 \r\nL 269.140625 146.899219 \r\nL 235.660625 146.899219 \r\nL 235.660625 119.719219 \r\n\" style=\"fill:#faebdd;\"/>\r\n    <path clip-path=\"url(#pb83418c0e7)\" d=\"M 269.140625 119.719219 \r\nL 302.620625 119.719219 \r\nL 302.620625 146.899219 \r\nL 269.140625 146.899219 \r\nL 269.140625 119.719219 \r\n\" style=\"fill:#f7c9aa;\"/>\r\n    <path clip-path=\"url(#pb83418c0e7)\" d=\"M 302.620625 119.719219 \r\nL 336.100625 119.719219 \r\nL 336.100625 146.899219 \r\nL 302.620625 146.899219 \r\nL 302.620625 119.719219 \r\n\" style=\"fill:#04051a;\"/>\r\n    <path clip-path=\"url(#pb83418c0e7)\" d=\"M 336.100625 119.719219 \r\nL 369.580625 119.719219 \r\nL 369.580625 146.899219 \r\nL 336.100625 146.899219 \r\nL 336.100625 119.719219 \r\n\" style=\"fill:#03051a;\"/>\r\n    <path clip-path=\"url(#pb83418c0e7)\" d=\"M 101.740625 146.899219 \r\nL 135.220625 146.899219 \r\nL 135.220625 174.079219 \r\nL 101.740625 174.079219 \r\nL 101.740625 146.899219 \r\n\" style=\"fill:#03051a;\"/>\r\n    <path clip-path=\"url(#pb83418c0e7)\" d=\"M 135.220625 146.899219 \r\nL 168.700625 146.899219 \r\nL 168.700625 174.079219 \r\nL 135.220625 174.079219 \r\nL 135.220625 146.899219 \r\n\" style=\"fill:#04051a;\"/>\r\n    <path clip-path=\"url(#pb83418c0e7)\" d=\"M 168.700625 146.899219 \r\nL 202.180625 146.899219 \r\nL 202.180625 174.079219 \r\nL 168.700625 174.079219 \r\nL 168.700625 146.899219 \r\n\" style=\"fill:#f8d9c3;\"/>\r\n    <path clip-path=\"url(#pb83418c0e7)\" d=\"M 202.180625 146.899219 \r\nL 235.660625 146.899219 \r\nL 235.660625 174.079219 \r\nL 202.180625 174.079219 \r\nL 202.180625 146.899219 \r\n\" style=\"fill:#f58860;\"/>\r\n    <path clip-path=\"url(#pb83418c0e7)\" d=\"M 235.660625 146.899219 \r\nL 269.140625 146.899219 \r\nL 269.140625 174.079219 \r\nL 235.660625 174.079219 \r\nL 235.660625 146.899219 \r\n\" style=\"fill:#f7c9aa;\"/>\r\n    <path clip-path=\"url(#pb83418c0e7)\" d=\"M 269.140625 146.899219 \r\nL 302.620625 146.899219 \r\nL 302.620625 174.079219 \r\nL 269.140625 174.079219 \r\nL 269.140625 146.899219 \r\n\" style=\"fill:#faebdd;\"/>\r\n    <path clip-path=\"url(#pb83418c0e7)\" d=\"M 302.620625 146.899219 \r\nL 336.100625 146.899219 \r\nL 336.100625 174.079219 \r\nL 302.620625 174.079219 \r\nL 302.620625 146.899219 \r\n\" style=\"fill:#04051a;\"/>\r\n    <path clip-path=\"url(#pb83418c0e7)\" d=\"M 336.100625 146.899219 \r\nL 369.580625 146.899219 \r\nL 369.580625 174.079219 \r\nL 336.100625 174.079219 \r\nL 336.100625 146.899219 \r\n\" style=\"fill:#03051a;\"/>\r\n    <path clip-path=\"url(#pb83418c0e7)\" d=\"M 101.740625 174.079219 \r\nL 135.220625 174.079219 \r\nL 135.220625 201.259219 \r\nL 101.740625 201.259219 \r\nL 101.740625 174.079219 \r\n\" style=\"fill:#03051a;\"/>\r\n    <path clip-path=\"url(#pb83418c0e7)\" d=\"M 135.220625 174.079219 \r\nL 168.700625 174.079219 \r\nL 168.700625 201.259219 \r\nL 135.220625 201.259219 \r\nL 135.220625 174.079219 \r\n\" style=\"fill:#f8d6be;\"/>\r\n    <path clip-path=\"url(#pb83418c0e7)\" d=\"M 168.700625 174.079219 \r\nL 202.180625 174.079219 \r\nL 202.180625 201.259219 \r\nL 168.700625 201.259219 \r\nL 168.700625 174.079219 \r\n\" style=\"fill:#04051a;\"/>\r\n    <path clip-path=\"url(#pb83418c0e7)\" d=\"M 202.180625 174.079219 \r\nL 235.660625 174.079219 \r\nL 235.660625 201.259219 \r\nL 202.180625 201.259219 \r\nL 202.180625 174.079219 \r\n\" style=\"fill:#04051a;\"/>\r\n    <path clip-path=\"url(#pb83418c0e7)\" d=\"M 235.660625 174.079219 \r\nL 269.140625 174.079219 \r\nL 269.140625 201.259219 \r\nL 235.660625 201.259219 \r\nL 235.660625 174.079219 \r\n\" style=\"fill:#04051a;\"/>\r\n    <path clip-path=\"url(#pb83418c0e7)\" d=\"M 269.140625 174.079219 \r\nL 302.620625 174.079219 \r\nL 302.620625 201.259219 \r\nL 269.140625 201.259219 \r\nL 269.140625 174.079219 \r\n\" style=\"fill:#04051a;\"/>\r\n    <path clip-path=\"url(#pb83418c0e7)\" d=\"M 302.620625 174.079219 \r\nL 336.100625 174.079219 \r\nL 336.100625 201.259219 \r\nL 302.620625 201.259219 \r\nL 302.620625 174.079219 \r\n\" style=\"fill:#faebdd;\"/>\r\n    <path clip-path=\"url(#pb83418c0e7)\" d=\"M 336.100625 174.079219 \r\nL 369.580625 174.079219 \r\nL 369.580625 201.259219 \r\nL 336.100625 201.259219 \r\nL 336.100625 174.079219 \r\n\" style=\"fill:#04051a;\"/>\r\n    <path clip-path=\"url(#pb83418c0e7)\" d=\"M 101.740625 201.259219 \r\nL 135.220625 201.259219 \r\nL 135.220625 228.439219 \r\nL 101.740625 228.439219 \r\nL 101.740625 201.259219 \r\n\" style=\"fill:#03051a;\"/>\r\n    <path clip-path=\"url(#pb83418c0e7)\" d=\"M 135.220625 201.259219 \r\nL 168.700625 201.259219 \r\nL 168.700625 228.439219 \r\nL 135.220625 228.439219 \r\nL 135.220625 201.259219 \r\n\" style=\"fill:#04051a;\"/>\r\n    <path clip-path=\"url(#pb83418c0e7)\" d=\"M 168.700625 201.259219 \r\nL 202.180625 201.259219 \r\nL 202.180625 228.439219 \r\nL 168.700625 228.439219 \r\nL 168.700625 201.259219 \r\n\" style=\"fill:#03051a;\"/>\r\n    <path clip-path=\"url(#pb83418c0e7)\" d=\"M 202.180625 201.259219 \r\nL 235.660625 201.259219 \r\nL 235.660625 228.439219 \r\nL 202.180625 228.439219 \r\nL 202.180625 201.259219 \r\n\" style=\"fill:#03051a;\"/>\r\n    <path clip-path=\"url(#pb83418c0e7)\" d=\"M 235.660625 201.259219 \r\nL 269.140625 201.259219 \r\nL 269.140625 228.439219 \r\nL 235.660625 228.439219 \r\nL 235.660625 201.259219 \r\n\" style=\"fill:#03051a;\"/>\r\n    <path clip-path=\"url(#pb83418c0e7)\" d=\"M 269.140625 201.259219 \r\nL 302.620625 201.259219 \r\nL 302.620625 228.439219 \r\nL 269.140625 228.439219 \r\nL 269.140625 201.259219 \r\n\" style=\"fill:#03051a;\"/>\r\n    <path clip-path=\"url(#pb83418c0e7)\" d=\"M 302.620625 201.259219 \r\nL 336.100625 201.259219 \r\nL 336.100625 228.439219 \r\nL 302.620625 228.439219 \r\nL 302.620625 201.259219 \r\n\" style=\"fill:#04051a;\"/>\r\n    <path clip-path=\"url(#pb83418c0e7)\" d=\"M 336.100625 201.259219 \r\nL 369.580625 201.259219 \r\nL 369.580625 228.439219 \r\nL 336.100625 228.439219 \r\nL 336.100625 201.259219 \r\n\" style=\"fill:#faebdd;\"/>\r\n   </g>\r\n   <g id=\"matplotlib.axis_1\">\r\n    <g id=\"xtick_1\">\r\n     <g id=\"line2d_1\">\r\n      <defs>\r\n       <path d=\"M 0 0 \r\nL 0 3.5 \r\n\" id=\"mef99e63380\" style=\"stroke:#000000;stroke-width:0.8;\"/>\r\n      </defs>\r\n      <g>\r\n       <use style=\"stroke:#000000;stroke-width:0.8;\" x=\"118.480625\" xlink:href=\"#mef99e63380\" y=\"228.439219\"/>\r\n      </g>\r\n     </g>\r\n     <g id=\"text_1\">\r\n      <!-- ID -->\r\n      <defs>\r\n       <path d=\"M 9.8125 72.90625 \r\nL 19.671875 72.90625 \r\nL 19.671875 0 \r\nL 9.8125 0 \r\nz\r\n\" id=\"DejaVuSans-73\"/>\r\n       <path d=\"M 19.671875 64.796875 \r\nL 19.671875 8.109375 \r\nL 31.59375 8.109375 \r\nQ 46.6875 8.109375 53.6875 14.9375 \r\nQ 60.6875 21.78125 60.6875 36.53125 \r\nQ 60.6875 51.171875 53.6875 57.984375 \r\nQ 46.6875 64.796875 31.59375 64.796875 \r\nz\r\nM 9.8125 72.90625 \r\nL 30.078125 72.90625 \r\nQ 51.265625 72.90625 61.171875 64.09375 \r\nQ 71.09375 55.28125 71.09375 36.53125 \r\nQ 71.09375 17.671875 61.125 8.828125 \r\nQ 51.171875 0 30.078125 0 \r\nL 9.8125 0 \r\nz\r\n\" id=\"DejaVuSans-68\"/>\r\n      </defs>\r\n      <g transform=\"translate(121.24 246.089219)rotate(-90)scale(0.1 -0.1)\">\r\n       <use xlink:href=\"#DejaVuSans-73\"/>\r\n       <use x=\"29.492188\" xlink:href=\"#DejaVuSans-68\"/>\r\n      </g>\r\n     </g>\r\n    </g>\r\n    <g id=\"xtick_2\">\r\n     <g id=\"line2d_2\">\r\n      <g>\r\n       <use style=\"stroke:#000000;stroke-width:0.8;\" x=\"151.960625\" xlink:href=\"#mef99e63380\" y=\"228.439219\"/>\r\n      </g>\r\n     </g>\r\n     <g id=\"text_2\">\r\n      <!-- goal -->\r\n      <defs>\r\n       <path d=\"M 45.40625 27.984375 \r\nQ 45.40625 37.75 41.375 43.109375 \r\nQ 37.359375 48.484375 30.078125 48.484375 \r\nQ 22.859375 48.484375 18.828125 43.109375 \r\nQ 14.796875 37.75 14.796875 27.984375 \r\nQ 14.796875 18.265625 18.828125 12.890625 \r\nQ 22.859375 7.515625 30.078125 7.515625 \r\nQ 37.359375 7.515625 41.375 12.890625 \r\nQ 45.40625 18.265625 45.40625 27.984375 \r\nz\r\nM 54.390625 6.78125 \r\nQ 54.390625 -7.171875 48.1875 -13.984375 \r\nQ 42 -20.796875 29.203125 -20.796875 \r\nQ 24.46875 -20.796875 20.265625 -20.09375 \r\nQ 16.0625 -19.390625 12.109375 -17.921875 \r\nL 12.109375 -9.1875 \r\nQ 16.0625 -11.328125 19.921875 -12.34375 \r\nQ 23.78125 -13.375 27.78125 -13.375 \r\nQ 36.625 -13.375 41.015625 -8.765625 \r\nQ 45.40625 -4.15625 45.40625 5.171875 \r\nL 45.40625 9.625 \r\nQ 42.625 4.78125 38.28125 2.390625 \r\nQ 33.9375 0 27.875 0 \r\nQ 17.828125 0 11.671875 7.65625 \r\nQ 5.515625 15.328125 5.515625 27.984375 \r\nQ 5.515625 40.671875 11.671875 48.328125 \r\nQ 17.828125 56 27.875 56 \r\nQ 33.9375 56 38.28125 53.609375 \r\nQ 42.625 51.21875 45.40625 46.390625 \r\nL 45.40625 54.6875 \r\nL 54.390625 54.6875 \r\nz\r\n\" id=\"DejaVuSans-103\"/>\r\n       <path d=\"M 30.609375 48.390625 \r\nQ 23.390625 48.390625 19.1875 42.75 \r\nQ 14.984375 37.109375 14.984375 27.296875 \r\nQ 14.984375 17.484375 19.15625 11.84375 \r\nQ 23.34375 6.203125 30.609375 6.203125 \r\nQ 37.796875 6.203125 41.984375 11.859375 \r\nQ 46.1875 17.53125 46.1875 27.296875 \r\nQ 46.1875 37.015625 41.984375 42.703125 \r\nQ 37.796875 48.390625 30.609375 48.390625 \r\nz\r\nM 30.609375 56 \r\nQ 42.328125 56 49.015625 48.375 \r\nQ 55.71875 40.765625 55.71875 27.296875 \r\nQ 55.71875 13.875 49.015625 6.21875 \r\nQ 42.328125 -1.421875 30.609375 -1.421875 \r\nQ 18.84375 -1.421875 12.171875 6.21875 \r\nQ 5.515625 13.875 5.515625 27.296875 \r\nQ 5.515625 40.765625 12.171875 48.375 \r\nQ 18.84375 56 30.609375 56 \r\nz\r\n\" id=\"DejaVuSans-111\"/>\r\n       <path d=\"M 34.28125 27.484375 \r\nQ 23.390625 27.484375 19.1875 25 \r\nQ 14.984375 22.515625 14.984375 16.5 \r\nQ 14.984375 11.71875 18.140625 8.90625 \r\nQ 21.296875 6.109375 26.703125 6.109375 \r\nQ 34.1875 6.109375 38.703125 11.40625 \r\nQ 43.21875 16.703125 43.21875 25.484375 \r\nL 43.21875 27.484375 \r\nz\r\nM 52.203125 31.203125 \r\nL 52.203125 0 \r\nL 43.21875 0 \r\nL 43.21875 8.296875 \r\nQ 40.140625 3.328125 35.546875 0.953125 \r\nQ 30.953125 -1.421875 24.3125 -1.421875 \r\nQ 15.921875 -1.421875 10.953125 3.296875 \r\nQ 6 8.015625 6 15.921875 \r\nQ 6 25.140625 12.171875 29.828125 \r\nQ 18.359375 34.515625 30.609375 34.515625 \r\nL 43.21875 34.515625 \r\nL 43.21875 35.40625 \r\nQ 43.21875 41.609375 39.140625 45 \r\nQ 35.0625 48.390625 27.6875 48.390625 \r\nQ 23 48.390625 18.546875 47.265625 \r\nQ 14.109375 46.140625 10.015625 43.890625 \r\nL 10.015625 52.203125 \r\nQ 14.9375 54.109375 19.578125 55.046875 \r\nQ 24.21875 56 28.609375 56 \r\nQ 40.484375 56 46.34375 49.84375 \r\nQ 52.203125 43.703125 52.203125 31.203125 \r\nz\r\n\" id=\"DejaVuSans-97\"/>\r\n       <path d=\"M 9.421875 75.984375 \r\nL 18.40625 75.984375 \r\nL 18.40625 0 \r\nL 9.421875 0 \r\nz\r\n\" id=\"DejaVuSans-108\"/>\r\n      </defs>\r\n      <g transform=\"translate(154.72 256.812656)rotate(-90)scale(0.1 -0.1)\">\r\n       <use xlink:href=\"#DejaVuSans-103\"/>\r\n       <use x=\"63.476562\" xlink:href=\"#DejaVuSans-111\"/>\r\n       <use x=\"124.658203\" xlink:href=\"#DejaVuSans-97\"/>\r\n       <use x=\"185.9375\" xlink:href=\"#DejaVuSans-108\"/>\r\n      </g>\r\n     </g>\r\n    </g>\r\n    <g id=\"xtick_3\">\r\n     <g id=\"line2d_3\">\r\n      <g>\r\n       <use style=\"stroke:#000000;stroke-width:0.8;\" x=\"185.440625\" xlink:href=\"#mef99e63380\" y=\"228.439219\"/>\r\n      </g>\r\n     </g>\r\n     <g id=\"text_3\">\r\n      <!-- pledged -->\r\n      <defs>\r\n       <path d=\"M 18.109375 8.203125 \r\nL 18.109375 -20.796875 \r\nL 9.078125 -20.796875 \r\nL 9.078125 54.6875 \r\nL 18.109375 54.6875 \r\nL 18.109375 46.390625 \r\nQ 20.953125 51.265625 25.265625 53.625 \r\nQ 29.59375 56 35.59375 56 \r\nQ 45.5625 56 51.78125 48.09375 \r\nQ 58.015625 40.1875 58.015625 27.296875 \r\nQ 58.015625 14.40625 51.78125 6.484375 \r\nQ 45.5625 -1.421875 35.59375 -1.421875 \r\nQ 29.59375 -1.421875 25.265625 0.953125 \r\nQ 20.953125 3.328125 18.109375 8.203125 \r\nz\r\nM 48.6875 27.296875 \r\nQ 48.6875 37.203125 44.609375 42.84375 \r\nQ 40.53125 48.484375 33.40625 48.484375 \r\nQ 26.265625 48.484375 22.1875 42.84375 \r\nQ 18.109375 37.203125 18.109375 27.296875 \r\nQ 18.109375 17.390625 22.1875 11.75 \r\nQ 26.265625 6.109375 33.40625 6.109375 \r\nQ 40.53125 6.109375 44.609375 11.75 \r\nQ 48.6875 17.390625 48.6875 27.296875 \r\nz\r\n\" id=\"DejaVuSans-112\"/>\r\n       <path d=\"M 56.203125 29.59375 \r\nL 56.203125 25.203125 \r\nL 14.890625 25.203125 \r\nQ 15.484375 15.921875 20.484375 11.0625 \r\nQ 25.484375 6.203125 34.421875 6.203125 \r\nQ 39.59375 6.203125 44.453125 7.46875 \r\nQ 49.3125 8.734375 54.109375 11.28125 \r\nL 54.109375 2.78125 \r\nQ 49.265625 0.734375 44.1875 -0.34375 \r\nQ 39.109375 -1.421875 33.890625 -1.421875 \r\nQ 20.796875 -1.421875 13.15625 6.1875 \r\nQ 5.515625 13.8125 5.515625 26.8125 \r\nQ 5.515625 40.234375 12.765625 48.109375 \r\nQ 20.015625 56 32.328125 56 \r\nQ 43.359375 56 49.78125 48.890625 \r\nQ 56.203125 41.796875 56.203125 29.59375 \r\nz\r\nM 47.21875 32.234375 \r\nQ 47.125 39.59375 43.09375 43.984375 \r\nQ 39.0625 48.390625 32.421875 48.390625 \r\nQ 24.90625 48.390625 20.390625 44.140625 \r\nQ 15.875 39.890625 15.1875 32.171875 \r\nz\r\n\" id=\"DejaVuSans-101\"/>\r\n       <path d=\"M 45.40625 46.390625 \r\nL 45.40625 75.984375 \r\nL 54.390625 75.984375 \r\nL 54.390625 0 \r\nL 45.40625 0 \r\nL 45.40625 8.203125 \r\nQ 42.578125 3.328125 38.25 0.953125 \r\nQ 33.9375 -1.421875 27.875 -1.421875 \r\nQ 17.96875 -1.421875 11.734375 6.484375 \r\nQ 5.515625 14.40625 5.515625 27.296875 \r\nQ 5.515625 40.1875 11.734375 48.09375 \r\nQ 17.96875 56 27.875 56 \r\nQ 33.9375 56 38.25 53.625 \r\nQ 42.578125 51.265625 45.40625 46.390625 \r\nz\r\nM 14.796875 27.296875 \r\nQ 14.796875 17.390625 18.875 11.75 \r\nQ 22.953125 6.109375 30.078125 6.109375 \r\nQ 37.203125 6.109375 41.296875 11.75 \r\nQ 45.40625 17.390625 45.40625 27.296875 \r\nQ 45.40625 37.203125 41.296875 42.84375 \r\nQ 37.203125 48.484375 30.078125 48.484375 \r\nQ 22.953125 48.484375 18.875 42.84375 \r\nQ 14.796875 37.203125 14.796875 27.296875 \r\nz\r\n\" id=\"DejaVuSans-100\"/>\r\n      </defs>\r\n      <g transform=\"translate(188.2 275.917344)rotate(-90)scale(0.1 -0.1)\">\r\n       <use xlink:href=\"#DejaVuSans-112\"/>\r\n       <use x=\"63.476562\" xlink:href=\"#DejaVuSans-108\"/>\r\n       <use x=\"91.259766\" xlink:href=\"#DejaVuSans-101\"/>\r\n       <use x=\"152.783203\" xlink:href=\"#DejaVuSans-100\"/>\r\n       <use x=\"216.259766\" xlink:href=\"#DejaVuSans-103\"/>\r\n       <use x=\"279.736328\" xlink:href=\"#DejaVuSans-101\"/>\r\n       <use x=\"341.259766\" xlink:href=\"#DejaVuSans-100\"/>\r\n      </g>\r\n     </g>\r\n    </g>\r\n    <g id=\"xtick_4\">\r\n     <g id=\"line2d_4\">\r\n      <g>\r\n       <use style=\"stroke:#000000;stroke-width:0.8;\" x=\"218.920625\" xlink:href=\"#mef99e63380\" y=\"228.439219\"/>\r\n      </g>\r\n     </g>\r\n     <g id=\"text_4\">\r\n      <!-- backers -->\r\n      <defs>\r\n       <path d=\"M 48.6875 27.296875 \r\nQ 48.6875 37.203125 44.609375 42.84375 \r\nQ 40.53125 48.484375 33.40625 48.484375 \r\nQ 26.265625 48.484375 22.1875 42.84375 \r\nQ 18.109375 37.203125 18.109375 27.296875 \r\nQ 18.109375 17.390625 22.1875 11.75 \r\nQ 26.265625 6.109375 33.40625 6.109375 \r\nQ 40.53125 6.109375 44.609375 11.75 \r\nQ 48.6875 17.390625 48.6875 27.296875 \r\nz\r\nM 18.109375 46.390625 \r\nQ 20.953125 51.265625 25.265625 53.625 \r\nQ 29.59375 56 35.59375 56 \r\nQ 45.5625 56 51.78125 48.09375 \r\nQ 58.015625 40.1875 58.015625 27.296875 \r\nQ 58.015625 14.40625 51.78125 6.484375 \r\nQ 45.5625 -1.421875 35.59375 -1.421875 \r\nQ 29.59375 -1.421875 25.265625 0.953125 \r\nQ 20.953125 3.328125 18.109375 8.203125 \r\nL 18.109375 0 \r\nL 9.078125 0 \r\nL 9.078125 75.984375 \r\nL 18.109375 75.984375 \r\nz\r\n\" id=\"DejaVuSans-98\"/>\r\n       <path d=\"M 48.78125 52.59375 \r\nL 48.78125 44.1875 \r\nQ 44.96875 46.296875 41.140625 47.34375 \r\nQ 37.3125 48.390625 33.40625 48.390625 \r\nQ 24.65625 48.390625 19.8125 42.84375 \r\nQ 14.984375 37.3125 14.984375 27.296875 \r\nQ 14.984375 17.28125 19.8125 11.734375 \r\nQ 24.65625 6.203125 33.40625 6.203125 \r\nQ 37.3125 6.203125 41.140625 7.25 \r\nQ 44.96875 8.296875 48.78125 10.40625 \r\nL 48.78125 2.09375 \r\nQ 45.015625 0.34375 40.984375 -0.53125 \r\nQ 36.96875 -1.421875 32.421875 -1.421875 \r\nQ 20.0625 -1.421875 12.78125 6.34375 \r\nQ 5.515625 14.109375 5.515625 27.296875 \r\nQ 5.515625 40.671875 12.859375 48.328125 \r\nQ 20.21875 56 33.015625 56 \r\nQ 37.15625 56 41.109375 55.140625 \r\nQ 45.0625 54.296875 48.78125 52.59375 \r\nz\r\n\" id=\"DejaVuSans-99\"/>\r\n       <path d=\"M 9.078125 75.984375 \r\nL 18.109375 75.984375 \r\nL 18.109375 31.109375 \r\nL 44.921875 54.6875 \r\nL 56.390625 54.6875 \r\nL 27.390625 29.109375 \r\nL 57.625 0 \r\nL 45.90625 0 \r\nL 18.109375 26.703125 \r\nL 18.109375 0 \r\nL 9.078125 0 \r\nz\r\n\" id=\"DejaVuSans-107\"/>\r\n       <path d=\"M 41.109375 46.296875 \r\nQ 39.59375 47.171875 37.8125 47.578125 \r\nQ 36.03125 48 33.890625 48 \r\nQ 26.265625 48 22.1875 43.046875 \r\nQ 18.109375 38.09375 18.109375 28.8125 \r\nL 18.109375 0 \r\nL 9.078125 0 \r\nL 9.078125 54.6875 \r\nL 18.109375 54.6875 \r\nL 18.109375 46.1875 \r\nQ 20.953125 51.171875 25.484375 53.578125 \r\nQ 30.03125 56 36.53125 56 \r\nQ 37.453125 56 38.578125 55.875 \r\nQ 39.703125 55.765625 41.0625 55.515625 \r\nz\r\n\" id=\"DejaVuSans-114\"/>\r\n       <path d=\"M 44.28125 53.078125 \r\nL 44.28125 44.578125 \r\nQ 40.484375 46.53125 36.375 47.5 \r\nQ 32.28125 48.484375 27.875 48.484375 \r\nQ 21.1875 48.484375 17.84375 46.4375 \r\nQ 14.5 44.390625 14.5 40.28125 \r\nQ 14.5 37.15625 16.890625 35.375 \r\nQ 19.28125 33.59375 26.515625 31.984375 \r\nL 29.59375 31.296875 \r\nQ 39.15625 29.25 43.1875 25.515625 \r\nQ 47.21875 21.78125 47.21875 15.09375 \r\nQ 47.21875 7.46875 41.1875 3.015625 \r\nQ 35.15625 -1.421875 24.609375 -1.421875 \r\nQ 20.21875 -1.421875 15.453125 -0.5625 \r\nQ 10.6875 0.296875 5.421875 2 \r\nL 5.421875 11.28125 \r\nQ 10.40625 8.6875 15.234375 7.390625 \r\nQ 20.0625 6.109375 24.8125 6.109375 \r\nQ 31.15625 6.109375 34.5625 8.28125 \r\nQ 37.984375 10.453125 37.984375 14.40625 \r\nQ 37.984375 18.0625 35.515625 20.015625 \r\nQ 33.0625 21.96875 24.703125 23.78125 \r\nL 21.578125 24.515625 \r\nQ 13.234375 26.265625 9.515625 29.90625 \r\nQ 5.8125 33.546875 5.8125 39.890625 \r\nQ 5.8125 47.609375 11.28125 51.796875 \r\nQ 16.75 56 26.8125 56 \r\nQ 31.78125 56 36.171875 55.265625 \r\nQ 40.578125 54.546875 44.28125 53.078125 \r\nz\r\n\" id=\"DejaVuSans-115\"/>\r\n      </defs>\r\n      <g transform=\"translate(221.68 274.673594)rotate(-90)scale(0.1 -0.1)\">\r\n       <use xlink:href=\"#DejaVuSans-98\"/>\r\n       <use x=\"63.476562\" xlink:href=\"#DejaVuSans-97\"/>\r\n       <use x=\"124.755859\" xlink:href=\"#DejaVuSans-99\"/>\r\n       <use x=\"179.736328\" xlink:href=\"#DejaVuSans-107\"/>\r\n       <use x=\"237.599609\" xlink:href=\"#DejaVuSans-101\"/>\r\n       <use x=\"299.123047\" xlink:href=\"#DejaVuSans-114\"/>\r\n       <use x=\"340.236328\" xlink:href=\"#DejaVuSans-115\"/>\r\n      </g>\r\n     </g>\r\n    </g>\r\n    <g id=\"xtick_5\">\r\n     <g id=\"line2d_5\">\r\n      <g>\r\n       <use style=\"stroke:#000000;stroke-width:0.8;\" x=\"252.400625\" xlink:href=\"#mef99e63380\" y=\"228.439219\"/>\r\n      </g>\r\n     </g>\r\n     <g id=\"text_5\">\r\n      <!-- usd pledged -->\r\n      <defs>\r\n       <path d=\"M 8.5 21.578125 \r\nL 8.5 54.6875 \r\nL 17.484375 54.6875 \r\nL 17.484375 21.921875 \r\nQ 17.484375 14.15625 20.5 10.265625 \r\nQ 23.53125 6.390625 29.59375 6.390625 \r\nQ 36.859375 6.390625 41.078125 11.03125 \r\nQ 45.3125 15.671875 45.3125 23.6875 \r\nL 45.3125 54.6875 \r\nL 54.296875 54.6875 \r\nL 54.296875 0 \r\nL 45.3125 0 \r\nL 45.3125 8.40625 \r\nQ 42.046875 3.421875 37.71875 1 \r\nQ 33.40625 -1.421875 27.6875 -1.421875 \r\nQ 18.265625 -1.421875 13.375 4.4375 \r\nQ 8.5 10.296875 8.5 21.578125 \r\nz\r\nM 31.109375 56 \r\nz\r\n\" id=\"DejaVuSans-117\"/>\r\n       <path id=\"DejaVuSans-32\"/>\r\n      </defs>\r\n      <g transform=\"translate(255.16 296.990781)rotate(-90)scale(0.1 -0.1)\">\r\n       <use xlink:href=\"#DejaVuSans-117\"/>\r\n       <use x=\"63.378906\" xlink:href=\"#DejaVuSans-115\"/>\r\n       <use x=\"115.478516\" xlink:href=\"#DejaVuSans-100\"/>\r\n       <use x=\"178.955078\" xlink:href=\"#DejaVuSans-32\"/>\r\n       <use x=\"210.742188\" xlink:href=\"#DejaVuSans-112\"/>\r\n       <use x=\"274.21875\" xlink:href=\"#DejaVuSans-108\"/>\r\n       <use x=\"302.001953\" xlink:href=\"#DejaVuSans-101\"/>\r\n       <use x=\"363.525391\" xlink:href=\"#DejaVuSans-100\"/>\r\n       <use x=\"427.001953\" xlink:href=\"#DejaVuSans-103\"/>\r\n       <use x=\"490.478516\" xlink:href=\"#DejaVuSans-101\"/>\r\n       <use x=\"552.001953\" xlink:href=\"#DejaVuSans-100\"/>\r\n      </g>\r\n     </g>\r\n    </g>\r\n    <g id=\"xtick_6\">\r\n     <g id=\"line2d_6\">\r\n      <g>\r\n       <use style=\"stroke:#000000;stroke-width:0.8;\" x=\"285.880625\" xlink:href=\"#mef99e63380\" y=\"228.439219\"/>\r\n      </g>\r\n     </g>\r\n     <g id=\"text_6\">\r\n      <!-- usd_pledged_real -->\r\n      <defs>\r\n       <path d=\"M 50.984375 -16.609375 \r\nL 50.984375 -23.578125 \r\nL -0.984375 -23.578125 \r\nL -0.984375 -16.609375 \r\nz\r\n\" id=\"DejaVuSans-95\"/>\r\n      </defs>\r\n      <g transform=\"translate(288.500938 322.979844)rotate(-90)scale(0.1 -0.1)\">\r\n       <use xlink:href=\"#DejaVuSans-117\"/>\r\n       <use x=\"63.378906\" xlink:href=\"#DejaVuSans-115\"/>\r\n       <use x=\"115.478516\" xlink:href=\"#DejaVuSans-100\"/>\r\n       <use x=\"178.955078\" xlink:href=\"#DejaVuSans-95\"/>\r\n       <use x=\"228.955078\" xlink:href=\"#DejaVuSans-112\"/>\r\n       <use x=\"292.431641\" xlink:href=\"#DejaVuSans-108\"/>\r\n       <use x=\"320.214844\" xlink:href=\"#DejaVuSans-101\"/>\r\n       <use x=\"381.738281\" xlink:href=\"#DejaVuSans-100\"/>\r\n       <use x=\"445.214844\" xlink:href=\"#DejaVuSans-103\"/>\r\n       <use x=\"508.691406\" xlink:href=\"#DejaVuSans-101\"/>\r\n       <use x=\"570.214844\" xlink:href=\"#DejaVuSans-100\"/>\r\n       <use x=\"633.691406\" xlink:href=\"#DejaVuSans-95\"/>\r\n       <use x=\"683.691406\" xlink:href=\"#DejaVuSans-114\"/>\r\n       <use x=\"724.773438\" xlink:href=\"#DejaVuSans-101\"/>\r\n       <use x=\"786.296875\" xlink:href=\"#DejaVuSans-97\"/>\r\n       <use x=\"847.576172\" xlink:href=\"#DejaVuSans-108\"/>\r\n      </g>\r\n     </g>\r\n    </g>\r\n    <g id=\"xtick_7\">\r\n     <g id=\"line2d_7\">\r\n      <g>\r\n       <use style=\"stroke:#000000;stroke-width:0.8;\" x=\"319.360625\" xlink:href=\"#mef99e63380\" y=\"228.439219\"/>\r\n      </g>\r\n     </g>\r\n     <g id=\"text_7\">\r\n      <!-- usd_goal_real -->\r\n      <g transform=\"translate(321.980938 303.875156)rotate(-90)scale(0.1 -0.1)\">\r\n       <use xlink:href=\"#DejaVuSans-117\"/>\r\n       <use x=\"63.378906\" xlink:href=\"#DejaVuSans-115\"/>\r\n       <use x=\"115.478516\" xlink:href=\"#DejaVuSans-100\"/>\r\n       <use x=\"178.955078\" xlink:href=\"#DejaVuSans-95\"/>\r\n       <use x=\"228.955078\" xlink:href=\"#DejaVuSans-103\"/>\r\n       <use x=\"292.431641\" xlink:href=\"#DejaVuSans-111\"/>\r\n       <use x=\"353.613281\" xlink:href=\"#DejaVuSans-97\"/>\r\n       <use x=\"414.892578\" xlink:href=\"#DejaVuSans-108\"/>\r\n       <use x=\"442.675781\" xlink:href=\"#DejaVuSans-95\"/>\r\n       <use x=\"492.675781\" xlink:href=\"#DejaVuSans-114\"/>\r\n       <use x=\"533.757812\" xlink:href=\"#DejaVuSans-101\"/>\r\n       <use x=\"595.28125\" xlink:href=\"#DejaVuSans-97\"/>\r\n       <use x=\"656.560547\" xlink:href=\"#DejaVuSans-108\"/>\r\n      </g>\r\n     </g>\r\n    </g>\r\n    <g id=\"xtick_8\">\r\n     <g id=\"line2d_8\">\r\n      <g>\r\n       <use style=\"stroke:#000000;stroke-width:0.8;\" x=\"352.840625\" xlink:href=\"#mef99e63380\" y=\"228.439219\"/>\r\n      </g>\r\n     </g>\r\n     <g id=\"text_8\">\r\n      <!-- duration -->\r\n      <defs>\r\n       <path d=\"M 18.3125 70.21875 \r\nL 18.3125 54.6875 \r\nL 36.8125 54.6875 \r\nL 36.8125 47.703125 \r\nL 18.3125 47.703125 \r\nL 18.3125 18.015625 \r\nQ 18.3125 11.328125 20.140625 9.421875 \r\nQ 21.96875 7.515625 27.59375 7.515625 \r\nL 36.8125 7.515625 \r\nL 36.8125 0 \r\nL 27.59375 0 \r\nQ 17.1875 0 13.234375 3.875 \r\nQ 9.28125 7.765625 9.28125 18.015625 \r\nL 9.28125 47.703125 \r\nL 2.6875 47.703125 \r\nL 2.6875 54.6875 \r\nL 9.28125 54.6875 \r\nL 9.28125 70.21875 \r\nz\r\n\" id=\"DejaVuSans-116\"/>\r\n       <path d=\"M 9.421875 54.6875 \r\nL 18.40625 54.6875 \r\nL 18.40625 0 \r\nL 9.421875 0 \r\nz\r\nM 9.421875 75.984375 \r\nL 18.40625 75.984375 \r\nL 18.40625 64.59375 \r\nL 9.421875 64.59375 \r\nz\r\n\" id=\"DejaVuSans-105\"/>\r\n       <path d=\"M 54.890625 33.015625 \r\nL 54.890625 0 \r\nL 45.90625 0 \r\nL 45.90625 32.71875 \r\nQ 45.90625 40.484375 42.875 44.328125 \r\nQ 39.84375 48.1875 33.796875 48.1875 \r\nQ 26.515625 48.1875 22.3125 43.546875 \r\nQ 18.109375 38.921875 18.109375 30.90625 \r\nL 18.109375 0 \r\nL 9.078125 0 \r\nL 9.078125 54.6875 \r\nL 18.109375 54.6875 \r\nL 18.109375 46.1875 \r\nQ 21.34375 51.125 25.703125 53.5625 \r\nQ 30.078125 56 35.796875 56 \r\nQ 45.21875 56 50.046875 50.171875 \r\nQ 54.890625 44.34375 54.890625 33.015625 \r\nz\r\n\" id=\"DejaVuSans-110\"/>\r\n      </defs>\r\n      <g transform=\"translate(355.6 277.518906)rotate(-90)scale(0.1 -0.1)\">\r\n       <use xlink:href=\"#DejaVuSans-100\"/>\r\n       <use x=\"63.476562\" xlink:href=\"#DejaVuSans-117\"/>\r\n       <use x=\"126.855469\" xlink:href=\"#DejaVuSans-114\"/>\r\n       <use x=\"167.96875\" xlink:href=\"#DejaVuSans-97\"/>\r\n       <use x=\"229.248047\" xlink:href=\"#DejaVuSans-116\"/>\r\n       <use x=\"268.457031\" xlink:href=\"#DejaVuSans-105\"/>\r\n       <use x=\"296.240234\" xlink:href=\"#DejaVuSans-111\"/>\r\n       <use x=\"357.421875\" xlink:href=\"#DejaVuSans-110\"/>\r\n      </g>\r\n     </g>\r\n    </g>\r\n   </g>\r\n   <g id=\"matplotlib.axis_2\">\r\n    <g id=\"ytick_1\">\r\n     <g id=\"line2d_9\">\r\n      <defs>\r\n       <path d=\"M 0 0 \r\nL -3.5 0 \r\n\" id=\"m7647ce3acd\" style=\"stroke:#000000;stroke-width:0.8;\"/>\r\n      </defs>\r\n      <g>\r\n       <use style=\"stroke:#000000;stroke-width:0.8;\" x=\"101.740625\" xlink:href=\"#m7647ce3acd\" y=\"24.589219\"/>\r\n      </g>\r\n     </g>\r\n     <g id=\"text_9\">\r\n      <!-- ID -->\r\n      <g transform=\"translate(84.090625 28.388438)scale(0.1 -0.1)\">\r\n       <use xlink:href=\"#DejaVuSans-73\"/>\r\n       <use x=\"29.492188\" xlink:href=\"#DejaVuSans-68\"/>\r\n      </g>\r\n     </g>\r\n    </g>\r\n    <g id=\"ytick_2\">\r\n     <g id=\"line2d_10\">\r\n      <g>\r\n       <use style=\"stroke:#000000;stroke-width:0.8;\" x=\"101.740625\" xlink:href=\"#m7647ce3acd\" y=\"51.769219\"/>\r\n      </g>\r\n     </g>\r\n     <g id=\"text_10\">\r\n      <!-- goal -->\r\n      <g transform=\"translate(73.367188 55.568438)scale(0.1 -0.1)\">\r\n       <use xlink:href=\"#DejaVuSans-103\"/>\r\n       <use x=\"63.476562\" xlink:href=\"#DejaVuSans-111\"/>\r\n       <use x=\"124.658203\" xlink:href=\"#DejaVuSans-97\"/>\r\n       <use x=\"185.9375\" xlink:href=\"#DejaVuSans-108\"/>\r\n      </g>\r\n     </g>\r\n    </g>\r\n    <g id=\"ytick_3\">\r\n     <g id=\"line2d_11\">\r\n      <g>\r\n       <use style=\"stroke:#000000;stroke-width:0.8;\" x=\"101.740625\" xlink:href=\"#m7647ce3acd\" y=\"78.949219\"/>\r\n      </g>\r\n     </g>\r\n     <g id=\"text_11\">\r\n      <!-- pledged -->\r\n      <g transform=\"translate(54.2625 82.748438)scale(0.1 -0.1)\">\r\n       <use xlink:href=\"#DejaVuSans-112\"/>\r\n       <use x=\"63.476562\" xlink:href=\"#DejaVuSans-108\"/>\r\n       <use x=\"91.259766\" xlink:href=\"#DejaVuSans-101\"/>\r\n       <use x=\"152.783203\" xlink:href=\"#DejaVuSans-100\"/>\r\n       <use x=\"216.259766\" xlink:href=\"#DejaVuSans-103\"/>\r\n       <use x=\"279.736328\" xlink:href=\"#DejaVuSans-101\"/>\r\n       <use x=\"341.259766\" xlink:href=\"#DejaVuSans-100\"/>\r\n      </g>\r\n     </g>\r\n    </g>\r\n    <g id=\"ytick_4\">\r\n     <g id=\"line2d_12\">\r\n      <g>\r\n       <use style=\"stroke:#000000;stroke-width:0.8;\" x=\"101.740625\" xlink:href=\"#m7647ce3acd\" y=\"106.129219\"/>\r\n      </g>\r\n     </g>\r\n     <g id=\"text_12\">\r\n      <!-- backers -->\r\n      <g transform=\"translate(55.50625 109.928438)scale(0.1 -0.1)\">\r\n       <use xlink:href=\"#DejaVuSans-98\"/>\r\n       <use x=\"63.476562\" xlink:href=\"#DejaVuSans-97\"/>\r\n       <use x=\"124.755859\" xlink:href=\"#DejaVuSans-99\"/>\r\n       <use x=\"179.736328\" xlink:href=\"#DejaVuSans-107\"/>\r\n       <use x=\"237.599609\" xlink:href=\"#DejaVuSans-101\"/>\r\n       <use x=\"299.123047\" xlink:href=\"#DejaVuSans-114\"/>\r\n       <use x=\"340.236328\" xlink:href=\"#DejaVuSans-115\"/>\r\n      </g>\r\n     </g>\r\n    </g>\r\n    <g id=\"ytick_5\">\r\n     <g id=\"line2d_13\">\r\n      <g>\r\n       <use style=\"stroke:#000000;stroke-width:0.8;\" x=\"101.740625\" xlink:href=\"#m7647ce3acd\" y=\"133.309219\"/>\r\n      </g>\r\n     </g>\r\n     <g id=\"text_13\">\r\n      <!-- usd pledged -->\r\n      <g transform=\"translate(33.189062 137.108438)scale(0.1 -0.1)\">\r\n       <use xlink:href=\"#DejaVuSans-117\"/>\r\n       <use x=\"63.378906\" xlink:href=\"#DejaVuSans-115\"/>\r\n       <use x=\"115.478516\" xlink:href=\"#DejaVuSans-100\"/>\r\n       <use x=\"178.955078\" xlink:href=\"#DejaVuSans-32\"/>\r\n       <use x=\"210.742188\" xlink:href=\"#DejaVuSans-112\"/>\r\n       <use x=\"274.21875\" xlink:href=\"#DejaVuSans-108\"/>\r\n       <use x=\"302.001953\" xlink:href=\"#DejaVuSans-101\"/>\r\n       <use x=\"363.525391\" xlink:href=\"#DejaVuSans-100\"/>\r\n       <use x=\"427.001953\" xlink:href=\"#DejaVuSans-103\"/>\r\n       <use x=\"490.478516\" xlink:href=\"#DejaVuSans-101\"/>\r\n       <use x=\"552.001953\" xlink:href=\"#DejaVuSans-100\"/>\r\n      </g>\r\n     </g>\r\n    </g>\r\n    <g id=\"ytick_6\">\r\n     <g id=\"line2d_14\">\r\n      <g>\r\n       <use style=\"stroke:#000000;stroke-width:0.8;\" x=\"101.740625\" xlink:href=\"#m7647ce3acd\" y=\"160.489219\"/>\r\n      </g>\r\n     </g>\r\n     <g id=\"text_14\">\r\n      <!-- usd_pledged_real -->\r\n      <g transform=\"translate(7.2 164.288438)scale(0.1 -0.1)\">\r\n       <use xlink:href=\"#DejaVuSans-117\"/>\r\n       <use x=\"63.378906\" xlink:href=\"#DejaVuSans-115\"/>\r\n       <use x=\"115.478516\" xlink:href=\"#DejaVuSans-100\"/>\r\n       <use x=\"178.955078\" xlink:href=\"#DejaVuSans-95\"/>\r\n       <use x=\"228.955078\" xlink:href=\"#DejaVuSans-112\"/>\r\n       <use x=\"292.431641\" xlink:href=\"#DejaVuSans-108\"/>\r\n       <use x=\"320.214844\" xlink:href=\"#DejaVuSans-101\"/>\r\n       <use x=\"381.738281\" xlink:href=\"#DejaVuSans-100\"/>\r\n       <use x=\"445.214844\" xlink:href=\"#DejaVuSans-103\"/>\r\n       <use x=\"508.691406\" xlink:href=\"#DejaVuSans-101\"/>\r\n       <use x=\"570.214844\" xlink:href=\"#DejaVuSans-100\"/>\r\n       <use x=\"633.691406\" xlink:href=\"#DejaVuSans-95\"/>\r\n       <use x=\"683.691406\" xlink:href=\"#DejaVuSans-114\"/>\r\n       <use x=\"724.773438\" xlink:href=\"#DejaVuSans-101\"/>\r\n       <use x=\"786.296875\" xlink:href=\"#DejaVuSans-97\"/>\r\n       <use x=\"847.576172\" xlink:href=\"#DejaVuSans-108\"/>\r\n      </g>\r\n     </g>\r\n    </g>\r\n    <g id=\"ytick_7\">\r\n     <g id=\"line2d_15\">\r\n      <g>\r\n       <use style=\"stroke:#000000;stroke-width:0.8;\" x=\"101.740625\" xlink:href=\"#m7647ce3acd\" y=\"187.669219\"/>\r\n      </g>\r\n     </g>\r\n     <g id=\"text_15\">\r\n      <!-- usd_goal_real -->\r\n      <g transform=\"translate(26.304687 191.468438)scale(0.1 -0.1)\">\r\n       <use xlink:href=\"#DejaVuSans-117\"/>\r\n       <use x=\"63.378906\" xlink:href=\"#DejaVuSans-115\"/>\r\n       <use x=\"115.478516\" xlink:href=\"#DejaVuSans-100\"/>\r\n       <use x=\"178.955078\" xlink:href=\"#DejaVuSans-95\"/>\r\n       <use x=\"228.955078\" xlink:href=\"#DejaVuSans-103\"/>\r\n       <use x=\"292.431641\" xlink:href=\"#DejaVuSans-111\"/>\r\n       <use x=\"353.613281\" xlink:href=\"#DejaVuSans-97\"/>\r\n       <use x=\"414.892578\" xlink:href=\"#DejaVuSans-108\"/>\r\n       <use x=\"442.675781\" xlink:href=\"#DejaVuSans-95\"/>\r\n       <use x=\"492.675781\" xlink:href=\"#DejaVuSans-114\"/>\r\n       <use x=\"533.757812\" xlink:href=\"#DejaVuSans-101\"/>\r\n       <use x=\"595.28125\" xlink:href=\"#DejaVuSans-97\"/>\r\n       <use x=\"656.560547\" xlink:href=\"#DejaVuSans-108\"/>\r\n      </g>\r\n     </g>\r\n    </g>\r\n    <g id=\"ytick_8\">\r\n     <g id=\"line2d_16\">\r\n      <g>\r\n       <use style=\"stroke:#000000;stroke-width:0.8;\" x=\"101.740625\" xlink:href=\"#m7647ce3acd\" y=\"214.849219\"/>\r\n      </g>\r\n     </g>\r\n     <g id=\"text_16\">\r\n      <!-- duration -->\r\n      <g transform=\"translate(52.660937 218.648438)scale(0.1 -0.1)\">\r\n       <use xlink:href=\"#DejaVuSans-100\"/>\r\n       <use x=\"63.476562\" xlink:href=\"#DejaVuSans-117\"/>\r\n       <use x=\"126.855469\" xlink:href=\"#DejaVuSans-114\"/>\r\n       <use x=\"167.96875\" xlink:href=\"#DejaVuSans-97\"/>\r\n       <use x=\"229.248047\" xlink:href=\"#DejaVuSans-116\"/>\r\n       <use x=\"268.457031\" xlink:href=\"#DejaVuSans-105\"/>\r\n       <use x=\"296.240234\" xlink:href=\"#DejaVuSans-111\"/>\r\n       <use x=\"357.421875\" xlink:href=\"#DejaVuSans-110\"/>\r\n      </g>\r\n     </g>\r\n    </g>\r\n   </g>\r\n  </g>\r\n  <g id=\"axes_2\">\r\n   <g id=\"patch_3\">\r\n    <path clip-path=\"url(#pfa2b1d82ef)\" d=\"M 386.320625 228.439219 \r\nL 386.320625 227.589844 \r\nL 386.320625 11.848594 \r\nL 386.320625 10.999219 \r\nL 397.192625 10.999219 \r\nL 397.192625 11.848594 \r\nL 397.192625 227.589844 \r\nL 397.192625 228.439219 \r\nz\r\n\" style=\"fill:#ffffff;stroke:#ffffff;stroke-linejoin:miter;stroke-width:0.01;\"/>\r\n   </g>\r\n   <image height=\"217\" id=\"image7864cbf764\" transform=\"scale(1 -1)translate(0 -217)\" width=\"11\" x=\"386\" xlink:href=\"data:image/png;base64,\r\niVBORw0KGgoAAAANSUhEUgAAAAsAAADZCAYAAAD2WsoCAAAABHNCSVQICAgIfAhkiAAAAWFJREFUaIHt2kluAzEQQ1EN7Uvk/ueMs81Sb/EBGXCvCYJkUdWDPZ/Xz3scXs+c8xSL4DWXgEXGIBmZQZGxF6TRybBxZzlv6UaZhsigcX9i+btxj0vGnaXRdYMMHkPTbpQGaSjnV7n5syKh5vOrLH+XxjFUy0/RkcGuz2F04bhBRqe5G/ctBo9fDzwNYu4qKmBJg2Q8d8jAvQHgnRXpljRExh7n6PAMWhpv0SzMXRqTmM+JS4OoWcAw7zC6vX5FBjCvKTkLGJmPsZoGTbAzCIfwWbD6U83HWJQRpiHM1g1iluhCgyJjdN0gMDzYocFMMzLLkzmsc5MxSIaALQ24E5pmMyifLDoZ8pKnQxGwfGMMhyJplJoz5k3jzmRcEp2kEQ7F0pAfX6wb5zdCTMN2HTELGD7hlJo7g1Z+SiOT8U3jH3jObCOFp5vS6O6wtBhfEXNYUWLelUH6l8UtRZLyf6DBP77AKyPaouNOAAAAAElFTkSuQmCC\" y=\"-11\"/>\r\n   <g id=\"matplotlib.axis_3\"/>\r\n   <g id=\"matplotlib.axis_4\">\r\n    <g id=\"ytick_9\">\r\n     <g id=\"line2d_17\">\r\n      <defs>\r\n       <path d=\"M 0 0 \r\nL 3.5 0 \r\n\" id=\"m7a23131fa4\" style=\"stroke:#000000;stroke-width:0.8;\"/>\r\n      </defs>\r\n      <g>\r\n       <use style=\"stroke:#000000;stroke-width:0.8;\" x=\"397.192625\" xlink:href=\"#m7a23131fa4\" y=\"228.193525\"/>\r\n      </g>\r\n     </g>\r\n     <g id=\"text_17\">\r\n      <!-- 0.0 -->\r\n      <defs>\r\n       <path d=\"M 31.78125 66.40625 \r\nQ 24.171875 66.40625 20.328125 58.90625 \r\nQ 16.5 51.421875 16.5 36.375 \r\nQ 16.5 21.390625 20.328125 13.890625 \r\nQ 24.171875 6.390625 31.78125 6.390625 \r\nQ 39.453125 6.390625 43.28125 13.890625 \r\nQ 47.125 21.390625 47.125 36.375 \r\nQ 47.125 51.421875 43.28125 58.90625 \r\nQ 39.453125 66.40625 31.78125 66.40625 \r\nz\r\nM 31.78125 74.21875 \r\nQ 44.046875 74.21875 50.515625 64.515625 \r\nQ 56.984375 54.828125 56.984375 36.375 \r\nQ 56.984375 17.96875 50.515625 8.265625 \r\nQ 44.046875 -1.421875 31.78125 -1.421875 \r\nQ 19.53125 -1.421875 13.0625 8.265625 \r\nQ 6.59375 17.96875 6.59375 36.375 \r\nQ 6.59375 54.828125 13.0625 64.515625 \r\nQ 19.53125 74.21875 31.78125 74.21875 \r\nz\r\n\" id=\"DejaVuSans-48\"/>\r\n       <path d=\"M 10.6875 12.40625 \r\nL 21 12.40625 \r\nL 21 0 \r\nL 10.6875 0 \r\nz\r\n\" id=\"DejaVuSans-46\"/>\r\n      </defs>\r\n      <g transform=\"translate(404.192625 231.992743)scale(0.1 -0.1)\">\r\n       <use xlink:href=\"#DejaVuSans-48\"/>\r\n       <use x=\"63.623047\" xlink:href=\"#DejaVuSans-46\"/>\r\n       <use x=\"95.410156\" xlink:href=\"#DejaVuSans-48\"/>\r\n      </g>\r\n     </g>\r\n    </g>\r\n    <g id=\"ytick_10\">\r\n     <g id=\"line2d_18\">\r\n      <g>\r\n       <use style=\"stroke:#000000;stroke-width:0.8;\" x=\"397.192625\" xlink:href=\"#m7a23131fa4\" y=\"184.754663\"/>\r\n      </g>\r\n     </g>\r\n     <g id=\"text_18\">\r\n      <!-- 0.2 -->\r\n      <defs>\r\n       <path d=\"M 19.1875 8.296875 \r\nL 53.609375 8.296875 \r\nL 53.609375 0 \r\nL 7.328125 0 \r\nL 7.328125 8.296875 \r\nQ 12.9375 14.109375 22.625 23.890625 \r\nQ 32.328125 33.6875 34.8125 36.53125 \r\nQ 39.546875 41.84375 41.421875 45.53125 \r\nQ 43.3125 49.21875 43.3125 52.78125 \r\nQ 43.3125 58.59375 39.234375 62.25 \r\nQ 35.15625 65.921875 28.609375 65.921875 \r\nQ 23.96875 65.921875 18.8125 64.3125 \r\nQ 13.671875 62.703125 7.8125 59.421875 \r\nL 7.8125 69.390625 \r\nQ 13.765625 71.78125 18.9375 73 \r\nQ 24.125 74.21875 28.421875 74.21875 \r\nQ 39.75 74.21875 46.484375 68.546875 \r\nQ 53.21875 62.890625 53.21875 53.421875 \r\nQ 53.21875 48.921875 51.53125 44.890625 \r\nQ 49.859375 40.875 45.40625 35.40625 \r\nQ 44.1875 33.984375 37.640625 27.21875 \r\nQ 31.109375 20.453125 19.1875 8.296875 \r\nz\r\n\" id=\"DejaVuSans-50\"/>\r\n      </defs>\r\n      <g transform=\"translate(404.192625 188.553882)scale(0.1 -0.1)\">\r\n       <use xlink:href=\"#DejaVuSans-48\"/>\r\n       <use x=\"63.623047\" xlink:href=\"#DejaVuSans-46\"/>\r\n       <use x=\"95.410156\" xlink:href=\"#DejaVuSans-50\"/>\r\n      </g>\r\n     </g>\r\n    </g>\r\n    <g id=\"ytick_11\">\r\n     <g id=\"line2d_19\">\r\n      <g>\r\n       <use style=\"stroke:#000000;stroke-width:0.8;\" x=\"397.192625\" xlink:href=\"#m7a23131fa4\" y=\"141.315802\"/>\r\n      </g>\r\n     </g>\r\n     <g id=\"text_19\">\r\n      <!-- 0.4 -->\r\n      <defs>\r\n       <path d=\"M 37.796875 64.3125 \r\nL 12.890625 25.390625 \r\nL 37.796875 25.390625 \r\nz\r\nM 35.203125 72.90625 \r\nL 47.609375 72.90625 \r\nL 47.609375 25.390625 \r\nL 58.015625 25.390625 \r\nL 58.015625 17.1875 \r\nL 47.609375 17.1875 \r\nL 47.609375 0 \r\nL 37.796875 0 \r\nL 37.796875 17.1875 \r\nL 4.890625 17.1875 \r\nL 4.890625 26.703125 \r\nz\r\n\" id=\"DejaVuSans-52\"/>\r\n      </defs>\r\n      <g transform=\"translate(404.192625 145.115021)scale(0.1 -0.1)\">\r\n       <use xlink:href=\"#DejaVuSans-48\"/>\r\n       <use x=\"63.623047\" xlink:href=\"#DejaVuSans-46\"/>\r\n       <use x=\"95.410156\" xlink:href=\"#DejaVuSans-52\"/>\r\n      </g>\r\n     </g>\r\n    </g>\r\n    <g id=\"ytick_12\">\r\n     <g id=\"line2d_20\">\r\n      <g>\r\n       <use style=\"stroke:#000000;stroke-width:0.8;\" x=\"397.192625\" xlink:href=\"#m7a23131fa4\" y=\"97.876941\"/>\r\n      </g>\r\n     </g>\r\n     <g id=\"text_20\">\r\n      <!-- 0.6 -->\r\n      <defs>\r\n       <path d=\"M 33.015625 40.375 \r\nQ 26.375 40.375 22.484375 35.828125 \r\nQ 18.609375 31.296875 18.609375 23.390625 \r\nQ 18.609375 15.53125 22.484375 10.953125 \r\nQ 26.375 6.390625 33.015625 6.390625 \r\nQ 39.65625 6.390625 43.53125 10.953125 \r\nQ 47.40625 15.53125 47.40625 23.390625 \r\nQ 47.40625 31.296875 43.53125 35.828125 \r\nQ 39.65625 40.375 33.015625 40.375 \r\nz\r\nM 52.59375 71.296875 \r\nL 52.59375 62.3125 \r\nQ 48.875 64.0625 45.09375 64.984375 \r\nQ 41.3125 65.921875 37.59375 65.921875 \r\nQ 27.828125 65.921875 22.671875 59.328125 \r\nQ 17.53125 52.734375 16.796875 39.40625 \r\nQ 19.671875 43.65625 24.015625 45.921875 \r\nQ 28.375 48.1875 33.59375 48.1875 \r\nQ 44.578125 48.1875 50.953125 41.515625 \r\nQ 57.328125 34.859375 57.328125 23.390625 \r\nQ 57.328125 12.15625 50.6875 5.359375 \r\nQ 44.046875 -1.421875 33.015625 -1.421875 \r\nQ 20.359375 -1.421875 13.671875 8.265625 \r\nQ 6.984375 17.96875 6.984375 36.375 \r\nQ 6.984375 53.65625 15.1875 63.9375 \r\nQ 23.390625 74.21875 37.203125 74.21875 \r\nQ 40.921875 74.21875 44.703125 73.484375 \r\nQ 48.484375 72.75 52.59375 71.296875 \r\nz\r\n\" id=\"DejaVuSans-54\"/>\r\n      </defs>\r\n      <g transform=\"translate(404.192625 101.67616)scale(0.1 -0.1)\">\r\n       <use xlink:href=\"#DejaVuSans-48\"/>\r\n       <use x=\"63.623047\" xlink:href=\"#DejaVuSans-46\"/>\r\n       <use x=\"95.410156\" xlink:href=\"#DejaVuSans-54\"/>\r\n      </g>\r\n     </g>\r\n    </g>\r\n    <g id=\"ytick_13\">\r\n     <g id=\"line2d_21\">\r\n      <g>\r\n       <use style=\"stroke:#000000;stroke-width:0.8;\" x=\"397.192625\" xlink:href=\"#m7a23131fa4\" y=\"54.43808\"/>\r\n      </g>\r\n     </g>\r\n     <g id=\"text_21\">\r\n      <!-- 0.8 -->\r\n      <defs>\r\n       <path d=\"M 31.78125 34.625 \r\nQ 24.75 34.625 20.71875 30.859375 \r\nQ 16.703125 27.09375 16.703125 20.515625 \r\nQ 16.703125 13.921875 20.71875 10.15625 \r\nQ 24.75 6.390625 31.78125 6.390625 \r\nQ 38.8125 6.390625 42.859375 10.171875 \r\nQ 46.921875 13.96875 46.921875 20.515625 \r\nQ 46.921875 27.09375 42.890625 30.859375 \r\nQ 38.875 34.625 31.78125 34.625 \r\nz\r\nM 21.921875 38.8125 \r\nQ 15.578125 40.375 12.03125 44.71875 \r\nQ 8.5 49.078125 8.5 55.328125 \r\nQ 8.5 64.0625 14.71875 69.140625 \r\nQ 20.953125 74.21875 31.78125 74.21875 \r\nQ 42.671875 74.21875 48.875 69.140625 \r\nQ 55.078125 64.0625 55.078125 55.328125 \r\nQ 55.078125 49.078125 51.53125 44.71875 \r\nQ 48 40.375 41.703125 38.8125 \r\nQ 48.828125 37.15625 52.796875 32.3125 \r\nQ 56.78125 27.484375 56.78125 20.515625 \r\nQ 56.78125 9.90625 50.3125 4.234375 \r\nQ 43.84375 -1.421875 31.78125 -1.421875 \r\nQ 19.734375 -1.421875 13.25 4.234375 \r\nQ 6.78125 9.90625 6.78125 20.515625 \r\nQ 6.78125 27.484375 10.78125 32.3125 \r\nQ 14.796875 37.15625 21.921875 38.8125 \r\nz\r\nM 18.3125 54.390625 \r\nQ 18.3125 48.734375 21.84375 45.5625 \r\nQ 25.390625 42.390625 31.78125 42.390625 \r\nQ 38.140625 42.390625 41.71875 45.5625 \r\nQ 45.3125 48.734375 45.3125 54.390625 \r\nQ 45.3125 60.0625 41.71875 63.234375 \r\nQ 38.140625 66.40625 31.78125 66.40625 \r\nQ 25.390625 66.40625 21.84375 63.234375 \r\nQ 18.3125 60.0625 18.3125 54.390625 \r\nz\r\n\" id=\"DejaVuSans-56\"/>\r\n      </defs>\r\n      <g transform=\"translate(404.192625 58.237299)scale(0.1 -0.1)\">\r\n       <use xlink:href=\"#DejaVuSans-48\"/>\r\n       <use x=\"63.623047\" xlink:href=\"#DejaVuSans-46\"/>\r\n       <use x=\"95.410156\" xlink:href=\"#DejaVuSans-56\"/>\r\n      </g>\r\n     </g>\r\n    </g>\r\n    <g id=\"ytick_14\">\r\n     <g id=\"line2d_22\">\r\n      <g>\r\n       <use style=\"stroke:#000000;stroke-width:0.8;\" x=\"397.192625\" xlink:href=\"#m7a23131fa4\" y=\"10.999219\"/>\r\n      </g>\r\n     </g>\r\n     <g id=\"text_22\">\r\n      <!-- 1.0 -->\r\n      <defs>\r\n       <path d=\"M 12.40625 8.296875 \r\nL 28.515625 8.296875 \r\nL 28.515625 63.921875 \r\nL 10.984375 60.40625 \r\nL 10.984375 69.390625 \r\nL 28.421875 72.90625 \r\nL 38.28125 72.90625 \r\nL 38.28125 8.296875 \r\nL 54.390625 8.296875 \r\nL 54.390625 0 \r\nL 12.40625 0 \r\nz\r\n\" id=\"DejaVuSans-49\"/>\r\n      </defs>\r\n      <g transform=\"translate(404.192625 14.798438)scale(0.1 -0.1)\">\r\n       <use xlink:href=\"#DejaVuSans-49\"/>\r\n       <use x=\"63.623047\" xlink:href=\"#DejaVuSans-46\"/>\r\n       <use x=\"95.410156\" xlink:href=\"#DejaVuSans-48\"/>\r\n      </g>\r\n     </g>\r\n    </g>\r\n   </g>\r\n   <g id=\"patch_4\">\r\n    <path d=\"M 386.320625 228.439219 \r\nL 386.320625 227.589844 \r\nL 386.320625 11.848594 \r\nL 386.320625 10.999219 \r\nL 397.192625 10.999219 \r\nL 397.192625 11.848594 \r\nL 397.192625 227.589844 \r\nL 397.192625 228.439219 \r\nz\r\n\" style=\"fill:none;\"/>\r\n   </g>\r\n  </g>\r\n </g>\r\n <defs>\r\n  <clipPath id=\"pb83418c0e7\">\r\n   <rect height=\"217.44\" width=\"267.84\" x=\"101.740625\" y=\"10.999219\"/>\r\n  </clipPath>\r\n  <clipPath id=\"pfa2b1d82ef\">\r\n   <rect height=\"217.44\" width=\"10.872\" x=\"386.320625\" y=\"10.999219\"/>\r\n  </clipPath>\r\n </defs>\r\n</svg>\r\n",
      "image/png": "[encoded data removed]"
     },
     "metadata": {
      "needs_background": "light"
     },
     "transient": {}
    }
   ],
   "source": [
    "# find correlation between features\n",
    "sns.heatmap(df.corr());"
   ]
  },
  {
   "cell_type": "code",
   "execution_count": 11,
   "metadata": {},
   "outputs": [
    {
     "output_type": "execute_result",
     "data": {
      "text/plain": "         category main_category     goal  pledged     state  backers country  \\\n0          Poetry    Publishing   1000.0      0.0    failed        0      GB   \n1  Narrative Film  Film & Video  30000.0   2421.0    failed       15      US   \n2  Narrative Film  Film & Video  45000.0    220.0    failed        3      US   \n3           Music         Music   5000.0      1.0    failed        1      US   \n4    Film & Video  Film & Video  19500.0   1283.0  canceled       14      US   \n\n   duration  \n0        58  \n1        59  \n2        44  \n3        29  \n4        55  ",
      "text/html": "<div>\n<style scoped>\n    .dataframe tbody tr th:only-of-type {\n        vertical-align: middle;\n    }\n\n    .dataframe tbody tr th {\n        vertical-align: top;\n    }\n\n    .dataframe thead th {\n        text-align: right;\n    }\n</style>\n<table border=\"1\" class=\"dataframe\">\n  <thead>\n    <tr style=\"text-align: right;\">\n      <th></th>\n      <th>category</th>\n      <th>main_category</th>\n      <th>goal</th>\n      <th>pledged</th>\n      <th>state</th>\n      <th>backers</th>\n      <th>country</th>\n      <th>duration</th>\n    </tr>\n  </thead>\n  <tbody>\n    <tr>\n      <th>0</th>\n      <td>Poetry</td>\n      <td>Publishing</td>\n      <td>1000.0</td>\n      <td>0.0</td>\n      <td>failed</td>\n      <td>0</td>\n      <td>GB</td>\n      <td>58</td>\n    </tr>\n    <tr>\n      <th>1</th>\n      <td>Narrative Film</td>\n      <td>Film &amp; Video</td>\n      <td>30000.0</td>\n      <td>2421.0</td>\n      <td>failed</td>\n      <td>15</td>\n      <td>US</td>\n      <td>59</td>\n    </tr>\n    <tr>\n      <th>2</th>\n      <td>Narrative Film</td>\n      <td>Film &amp; Video</td>\n      <td>45000.0</td>\n      <td>220.0</td>\n      <td>failed</td>\n      <td>3</td>\n      <td>US</td>\n      <td>44</td>\n    </tr>\n    <tr>\n      <th>3</th>\n      <td>Music</td>\n      <td>Music</td>\n      <td>5000.0</td>\n      <td>1.0</td>\n      <td>failed</td>\n      <td>1</td>\n      <td>US</td>\n      <td>29</td>\n    </tr>\n    <tr>\n      <th>4</th>\n      <td>Film &amp; Video</td>\n      <td>Film &amp; Video</td>\n      <td>19500.0</td>\n      <td>1283.0</td>\n      <td>canceled</td>\n      <td>14</td>\n      <td>US</td>\n      <td>55</td>\n    </tr>\n  </tbody>\n</table>\n</div>"
     },
     "metadata": {},
     "execution_count": 11
    }
   ],
   "source": [
    "# remove unnecessary columns\n",
    "df = df.drop(['ID', 'name', 'currency', 'launched', 'deadline', 'currency', 'usd pledged', 'usd_pledged_real', 'usd_goal_real'], axis=1)\n",
    "df.head()"
   ]
  },
  {
   "cell_type": "code",
   "execution_count": 12,
   "metadata": {},
   "outputs": [
    {
     "output_type": "execute_result",
     "data": {
      "text/plain": "failed        197719\nsuccessful    133956\ncanceled       38779\nundefined       3562\nlive            2799\nsuspended       1846\nName: state, dtype: int64"
     },
     "metadata": {},
     "execution_count": 12
    }
   ],
   "source": [
    "df['state'].value_counts()"
   ]
  },
  {
   "cell_type": "code",
   "execution_count": 13,
   "metadata": {},
   "outputs": [
    {
     "output_type": "execute_result",
     "data": {
      "text/plain": "failed        197719\nsuccessful    133956\nName: state, dtype: int64"
     },
     "metadata": {},
     "execution_count": 13
    }
   ],
   "source": [
    "# remove all states except 'failed' and 'successful'\n",
    "df = df.loc[df['state'].isin(['failed', 'successful'])]\n",
    "df['state'].value_counts()"
   ]
  },
  {
   "cell_type": "code",
   "execution_count": 14,
   "metadata": {},
   "outputs": [
    {
     "output_type": "execute_result",
     "data": {
      "text/plain": "0    197719\n1    133956\nName: state, dtype: int64"
     },
     "metadata": {},
     "execution_count": 14
    }
   ],
   "source": [
    "# map failed to 0 and successful to 1\n",
    "df['state'] = df['state'].map({'failed': 0, 'successful': 1})\n",
    "df['state'].value_counts()"
   ]
  },
  {
   "cell_type": "code",
   "execution_count": 15,
   "metadata": {},
   "outputs": [
    {
     "output_type": "execute_result",
     "data": {
      "text/plain": "(331675, 202)"
     },
     "metadata": {},
     "execution_count": 15
    }
   ],
   "source": [
    "# transform categoracal variables to columns\n",
    "cols = df.select_dtypes('category').columns\n",
    "df = pd.get_dummies(df, columns=df.select_dtypes('category').columns)\n",
    "df.shape"
   ]
  },
  {
   "cell_type": "code",
   "execution_count": 18,
   "metadata": {},
   "outputs": [
    {
     "output_type": "execute_result",
     "data": {
      "text/plain": "((331675, 201), (331675,))"
     },
     "metadata": {},
     "execution_count": 18
    }
   ],
   "source": [
    "# split dataset into matrix X with features and vector y with target\n",
    "X, y = df.drop('state', axis=1), df['state']\n",
    "X.shape, y.shape"
   ]
  },
  {
   "cell_type": "code",
   "execution_count": 19,
   "metadata": {},
   "outputs": [
    {
     "output_type": "execute_result",
     "data": {
      "text/plain": "((232172, 201), (99503, 201))"
     },
     "metadata": {},
     "execution_count": 19
    }
   ],
   "source": [
    "# split data into train and test\n",
    "X_train, X_test,  y_train, y_test = train_test_split(X, y, test_size=.3, random_state=8)\n",
    "X_train.shape, X_test.shape"
   ]
  },
  {
   "cell_type": "code",
   "execution_count": 20,
   "metadata": {},
   "outputs": [],
   "source": [
    "# start build tree\n",
    "tree = DecisionTreeClassifier(random_state=8)"
   ]
  },
  {
   "cell_type": "code",
   "execution_count": 21,
   "metadata": {},
   "outputs": [],
   "source": [
    "# perform cross-validation\n",
    "# parameters\n",
    "params = {'max_depth': np.arange(2, 11), 'min_samples_leaf':  np.arange(1, 11)}"
   ]
  },
  {
   "cell_type": "code",
   "execution_count": 22,
   "metadata": {},
   "outputs": [],
   "source": [
    "skf = StratifiedKFold(n_splits=5, shuffle=True, random_state=17)"
   ]
  },
  {
   "cell_type": "code",
   "execution_count": 23,
   "metadata": {},
   "outputs": [],
   "source": [
    "# start cross-validation. We use accuracy is a metric\n",
    "best_tree = GridSearchCV(estimator=tree, param_grid=params, cv=skf, scoring='roc_auc', n_jobs=-1, verbose=1)"
   ]
  },
  {
   "cell_type": "code",
   "execution_count": 24,
   "metadata": {},
   "outputs": [
    {
     "output_type": "stream",
     "name": "stdout",
     "text": "Fitting 5 folds for each of 90 candidates, totalling 450 fits\n[Parallel(n_jobs=-1)]: Using backend LokyBackend with 4 concurrent workers.\n[Parallel(n_jobs=-1)]: Done  42 tasks      | elapsed:  1.0min\n[Parallel(n_jobs=-1)]: Done 192 tasks      | elapsed:  5.4min\n[Parallel(n_jobs=-1)]: Done 442 tasks      | elapsed: 16.6min\n[Parallel(n_jobs=-1)]: Done 450 out of 450 | elapsed: 17.0min finished\n"
    },
    {
     "output_type": "execute_result",
     "data": {
      "text/plain": "GridSearchCV(cv=StratifiedKFold(n_splits=5, random_state=17, shuffle=True),\n             error_score=nan,\n             estimator=DecisionTreeClassifier(ccp_alpha=0.0, class_weight=None,\n                                              criterion='gini', max_depth=None,\n                                              max_features=None,\n                                              max_leaf_nodes=None,\n                                              min_impurity_decrease=0.0,\n                                              min_impurity_split=None,\n                                              min_samples_leaf=1,\n                                              min_samples_split=2,\n                                              min_weight_fraction_leaf=0.0,\n                                              presort='deprecated',\n                                              random_state=8, splitter='best'),\n             iid='deprecated', n_jobs=-1,\n             param_grid={'max_depth': array([ 2,  3,  4,  5,  6,  7,  8,  9, 10]),\n                         'min_samples_leaf': array([ 1,  2,  3,  4,  5,  6,  7,  8,  9, 10])},\n             pre_dispatch='2*n_jobs', refit=True, return_train_score=False,\n             scoring='roc_auc', verbose=1)"
     },
     "metadata": {},
     "execution_count": 24
    }
   ],
   "source": [
    "best_tree.fit(X_train, y_train)"
   ]
  },
  {
   "cell_type": "code",
   "execution_count": 25,
   "metadata": {},
   "outputs": [
    {
     "output_type": "execute_result",
     "data": {
      "text/plain": "{'max_depth': 9, 'min_samples_leaf': 10}"
     },
     "metadata": {},
     "execution_count": 25
    }
   ],
   "source": [
    "# best tree params\n",
    "best_tree.best_params_"
   ]
  },
  {
   "cell_type": "code",
   "execution_count": 26,
   "metadata": {},
   "outputs": [
    {
     "output_type": "execute_result",
     "data": {
      "text/plain": "0.9994736004279691"
     },
     "metadata": {},
     "execution_count": 26
    }
   ],
   "source": [
    "best_tree.best_score_"
   ]
  },
  {
   "cell_type": "code",
   "execution_count": 27,
   "metadata": {},
   "outputs": [
    {
     "output_type": "execute_result",
     "data": {
      "text/plain": "GridSearchCV(cv=StratifiedKFold(n_splits=5, random_state=17, shuffle=True),\n             error_score=nan,\n             estimator=DecisionTreeClassifier(ccp_alpha=0.0, class_weight=None,\n                                              criterion='gini', max_depth=None,\n                                              max_features=None,\n                                              max_leaf_nodes=None,\n                                              min_impurity_decrease=0.0,\n                                              min_impurity_split=None,\n                                              min_samples_leaf=1,\n                                              min_samples_split=2,\n                                              min_weight_fraction_leaf=0.0,\n                                              presort='deprecated',\n                                              random_state=8, splitter='best'),\n             iid='deprecated', n_jobs=-1,\n             param_grid={'max_depth': array([ 2,  3,  4,  5,  6,  7,  8,  9, 10]),\n                         'min_samples_leaf': array([ 1,  2,  3,  4,  5,  6,  7,  8,  9, 10])},\n             pre_dispatch='2*n_jobs', refit=True, return_train_score=False,\n             scoring='roc_auc', verbose=1)"
     },
     "metadata": {},
     "execution_count": 27
    }
   ],
   "source": [
    "best_tree"
   ]
  },
  {
   "cell_type": "code",
   "execution_count": 28,
   "metadata": {},
   "outputs": [],
   "source": [
    "# Holdout assesment of a best tree\n",
    "pred_holdout_better = best_tree.predict(X_test)"
   ]
  },
  {
   "cell_type": "code",
   "execution_count": 30,
   "metadata": {},
   "outputs": [
    {
     "output_type": "execute_result",
     "data": {
      "text/plain": "0.998280954146071"
     },
     "metadata": {},
     "execution_count": 30
    }
   ],
   "source": [
    "roc_auc_score(y_test, pred_holdout_better)"
   ]
  },
  {
   "cell_type": "code",
   "execution_count": 31,
   "metadata": {},
   "outputs": [],
   "source": [
    "# tree visualization\n",
    "from io import StringIO\n",
    "import pydotplus\n",
    "from ipywidgets import Image"
   ]
  },
  {
   "cell_type": "code",
   "execution_count": 32,
   "metadata": {},
   "outputs": [],
   "source": [
    "#dot_data = StringIO()\n",
    "export_graphviz(decision_tree=best_tree.best_estimator_, out_file=\"tree_3.dot\", filled=True,\n",
    "                feature_names=df.drop('state', axis=1).columns)\n",
    "#graph = pydotplus.graph_from_dot_data(dot_data.getvalue())  \n",
    "#Image(value=graph.create_png())"
   ]
  },
  {
   "cell_type": "code",
   "execution_count": null,
   "metadata": {},
   "outputs": [],
   "source": []
  }
 ]
}